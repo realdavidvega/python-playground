{
 "cells": [
  {
   "cell_type": "markdown",
   "metadata": {},
   "source": [
    "# 02- TensorFlow Estimator API"
   ]
  },
  {
   "cell_type": "markdown",
   "metadata": {},
   "source": [
    "## 1- Regression Example"
   ]
  },
  {
   "cell_type": "markdown",
   "metadata": {},
   "source": [
    "First of all, we import our ML libraries"
   ]
  },
  {
   "cell_type": "code",
   "execution_count": 2,
   "metadata": {},
   "outputs": [],
   "source": [
    "import tensorflow as tf\n",
    "import numpy as np\n",
    "import pandas as pd\n",
    "import matplotlib.pyplot as plt"
   ]
  },
  {
   "cell_type": "markdown",
   "metadata": {},
   "source": [
    "As before, we create our data sample: y = 0.5*x + 5 + noise\n",
    "\n",
    "Remember this is just an example"
   ]
  },
  {
   "cell_type": "code",
   "execution_count": 57,
   "metadata": {},
   "outputs": [],
   "source": [
    "x_data = np.linspace(0.0,10,1000000)\n",
    "noise = np.random.randn(len(x_data))\n",
    "\n",
    "y_true = (0.5 * x_data) + 5 + noise\n",
    "\n",
    "x_df = pd.DataFrame(data=x_data,columns=['X data'])\n",
    "y_df = pd.DataFrame(data=y_true, columns=['Y'])\n",
    "\n",
    "my_data = pd.concat([x_df,y_df],axis=1)"
   ]
  },
  {
   "cell_type": "markdown",
   "metadata": {},
   "source": [
    "Now we have to create our feature columns for the estimator"
   ]
  },
  {
   "cell_type": "code",
   "execution_count": 3,
   "metadata": {},
   "outputs": [],
   "source": [
    "feat_cols = [ tf.feature_column.numeric_column('x',shape=[1]) ]"
   ]
  },
  {
   "cell_type": "code",
   "execution_count": 4,
   "metadata": {},
   "outputs": [
    {
     "name": "stdout",
     "output_type": "stream",
     "text": [
      "INFO:tensorflow:Using default config.\n",
      "WARNING:tensorflow:Using temporary folder as model directory: /tmp/tmptze5u2lq\n",
      "INFO:tensorflow:Using config: {'_model_dir': '/tmp/tmptze5u2lq', '_tf_random_seed': None, '_save_summary_steps': 100, '_save_checkpoints_steps': None, '_save_checkpoints_secs': 600, '_session_config': None, '_keep_checkpoint_max': 5, '_keep_checkpoint_every_n_hours': 10000, '_log_step_count_steps': 100, '_service': None, '_cluster_spec': <tensorflow.python.training.server_lib.ClusterSpec object at 0x7f1f9c16f278>, '_task_type': 'worker', '_task_id': 0, '_master': '', '_is_chief': True, '_num_ps_replicas': 0, '_num_worker_replicas': 1}\n"
     ]
    }
   ],
   "source": [
    "estimator = tf.estimator.LinearRegressor(feature_columns=feat_cols)"
   ]
  },
  {
   "cell_type": "markdown",
   "metadata": {},
   "source": [
    "Don't bother about that warnings, it's just information\n",
    "\n",
    "Now let's create our Model with sklearn and make the split of 30% for testing and 70% for training"
   ]
  },
  {
   "cell_type": "code",
   "execution_count": 5,
   "metadata": {},
   "outputs": [],
   "source": [
    "from sklearn.model_selection import train_test_split"
   ]
  },
  {
   "cell_type": "code",
   "execution_count": 8,
   "metadata": {},
   "outputs": [],
   "source": [
    "x_train, x_eval, y_train, y_eval = train_test_split(x_data,y_true,test_size=0.3,random_state=101)"
   ]
  },
  {
   "cell_type": "markdown",
   "metadata": {},
   "source": [
    "Now we are going to see some values of our train models and evaluate models, as well as its shape"
   ]
  },
  {
   "cell_type": "code",
   "execution_count": 10,
   "metadata": {},
   "outputs": [
    {
     "name": "stdout",
     "output_type": "stream",
     "text": [
      "[ 6.83743684  5.66519567  3.97899398 ...,  4.76497476  2.14539215\n",
      "  1.76991177]\n",
      "(700000,)\n"
     ]
    }
   ],
   "source": [
    "print(x_train)\n",
    "print(x_train.shape)"
   ]
  },
  {
   "cell_type": "code",
   "execution_count": 11,
   "metadata": {},
   "outputs": [
    {
     "name": "stdout",
     "output_type": "stream",
     "text": [
      "[ 1.80580181  2.0977321   8.20631821 ...,  6.52283652  9.97530998\n",
      "  3.97208397]\n",
      "(300000,)\n"
     ]
    }
   ],
   "source": [
    "print(x_eval)\n",
    "print(x_eval.shape)"
   ]
  },
  {
   "cell_type": "markdown",
   "metadata": {},
   "source": [
    "As you see it makes sense, 30% for evaluation and 70% for training\n",
    "\n",
    "We need to setup our estimator inputs. The estimator function acts like the feed dictionary and batch size"
   ]
  },
  {
   "cell_type": "code",
   "execution_count": 12,
   "metadata": {},
   "outputs": [],
   "source": [
    "input_func = tf.estimator.inputs.numpy_input_fn({'x':x_train},y_train,batch_size=8,num_epochs=None,shuffle=True)"
   ]
  },
  {
   "cell_type": "markdown",
   "metadata": {},
   "source": [
    "Now we need to create more input functions for our test data and train data\n",
    "\n",
    "Shuffle is false because this function is going to be used in order to evaluate against the test data"
   ]
  },
  {
   "cell_type": "code",
   "execution_count": 13,
   "metadata": {},
   "outputs": [],
   "source": [
    "train_input_func = tf.estimator.inputs.numpy_input_fn({'x':x_train},y_train,batch_size=8,num_epochs=1000,shuffle=False)"
   ]
  },
  {
   "cell_type": "code",
   "execution_count": 17,
   "metadata": {},
   "outputs": [],
   "source": [
    "eval_input_func = tf.estimator.inputs.numpy_input_fn({'x':x_eval},y_eval,batch_size=8,num_epochs=1000,shuffle=False)"
   ]
  },
  {
   "cell_type": "markdown",
   "metadata": {},
   "source": [
    "We need to train our estimator"
   ]
  },
  {
   "cell_type": "code",
   "execution_count": 18,
   "metadata": {},
   "outputs": [
    {
     "name": "stdout",
     "output_type": "stream",
     "text": [
      "INFO:tensorflow:Create CheckpointSaverHook.\n",
      "INFO:tensorflow:Saving checkpoints for 1 into /tmp/tmptze5u2lq/model.ckpt.\n",
      "INFO:tensorflow:loss = 474.094, step = 1\n",
      "INFO:tensorflow:global_step/sec: 477.512\n",
      "INFO:tensorflow:loss = 15.7293, step = 101 (0.218 sec)\n",
      "INFO:tensorflow:global_step/sec: 571.167\n",
      "INFO:tensorflow:loss = 36.3777, step = 201 (0.168 sec)\n",
      "INFO:tensorflow:global_step/sec: 534.144\n",
      "INFO:tensorflow:loss = 26.503, step = 301 (0.189 sec)\n",
      "INFO:tensorflow:global_step/sec: 604.972\n",
      "INFO:tensorflow:loss = 14.8078, step = 401 (0.165 sec)\n",
      "INFO:tensorflow:global_step/sec: 290.543\n",
      "INFO:tensorflow:loss = 7.04009, step = 501 (0.354 sec)\n",
      "INFO:tensorflow:global_step/sec: 416.346\n",
      "INFO:tensorflow:loss = 13.5732, step = 601 (0.234 sec)\n",
      "INFO:tensorflow:global_step/sec: 444.444\n",
      "INFO:tensorflow:loss = 7.81547, step = 701 (0.219 sec)\n",
      "INFO:tensorflow:global_step/sec: 499.998\n",
      "INFO:tensorflow:loss = 9.39688, step = 801 (0.203 sec)\n",
      "INFO:tensorflow:global_step/sec: 587.436\n",
      "INFO:tensorflow:loss = 8.45447, step = 901 (0.170 sec)\n",
      "INFO:tensorflow:Saving checkpoints for 1000 into /tmp/tmptze5u2lq/model.ckpt.\n",
      "INFO:tensorflow:Loss for final step: 3.54717.\n"
     ]
    },
    {
     "data": {
      "text/plain": [
       "<tensorflow.python.estimator.canned.linear.LinearRegressor at 0x7f1f9c3f9dd8>"
      ]
     },
     "execution_count": 18,
     "metadata": {},
     "output_type": "execute_result"
    }
   ],
   "source": [
    "estimator.train(input_fn=input_func,steps=1000)"
   ]
  },
  {
   "cell_type": "markdown",
   "metadata": {},
   "source": [
    "Here we can see some information related to the training\n",
    "\n",
    "After that, we need to get some sort of evaluation metrics for our train model, and the Estimator API also have nice methods to do that"
   ]
  },
  {
   "cell_type": "code",
   "execution_count": 20,
   "metadata": {},
   "outputs": [
    {
     "name": "stdout",
     "output_type": "stream",
     "text": [
      "INFO:tensorflow:Starting evaluation at 2018-07-04-12:47:55\n",
      "INFO:tensorflow:Restoring parameters from /tmp/tmptze5u2lq/model.ckpt-1000\n",
      "INFO:tensorflow:Evaluation [100/1000]\n",
      "INFO:tensorflow:Evaluation [200/1000]\n",
      "INFO:tensorflow:Evaluation [300/1000]\n",
      "INFO:tensorflow:Evaluation [400/1000]\n",
      "INFO:tensorflow:Evaluation [500/1000]\n",
      "INFO:tensorflow:Evaluation [600/1000]\n",
      "INFO:tensorflow:Evaluation [700/1000]\n",
      "INFO:tensorflow:Evaluation [800/1000]\n",
      "INFO:tensorflow:Evaluation [900/1000]\n",
      "INFO:tensorflow:Evaluation [1000/1000]\n",
      "INFO:tensorflow:Finished evaluation at 2018-07-04-12:47:57\n",
      "INFO:tensorflow:Saving dict for global step 1000: average_loss = 1.06919, global_step = 1000, loss = 8.55349\n"
     ]
    }
   ],
   "source": [
    "train_metrics = estimator.evaluate(input_fn=train_input_func,steps=1000)"
   ]
  },
  {
   "cell_type": "markdown",
   "metadata": {},
   "source": [
    "Also, we need to get the evaluation metrics of the test model"
   ]
  },
  {
   "cell_type": "code",
   "execution_count": 22,
   "metadata": {},
   "outputs": [
    {
     "name": "stdout",
     "output_type": "stream",
     "text": [
      "INFO:tensorflow:Starting evaluation at 2018-07-04-12:50:26\n",
      "INFO:tensorflow:Restoring parameters from /tmp/tmptze5u2lq/model.ckpt-1000\n",
      "INFO:tensorflow:Evaluation [100/1000]\n",
      "INFO:tensorflow:Evaluation [200/1000]\n",
      "INFO:tensorflow:Evaluation [300/1000]\n",
      "INFO:tensorflow:Evaluation [400/1000]\n",
      "INFO:tensorflow:Evaluation [500/1000]\n",
      "INFO:tensorflow:Evaluation [600/1000]\n",
      "INFO:tensorflow:Evaluation [700/1000]\n",
      "INFO:tensorflow:Evaluation [800/1000]\n",
      "INFO:tensorflow:Evaluation [900/1000]\n",
      "INFO:tensorflow:Evaluation [1000/1000]\n",
      "INFO:tensorflow:Finished evaluation at 2018-07-04-12:50:28\n",
      "INFO:tensorflow:Saving dict for global step 1000: average_loss = 1.06054, global_step = 1000, loss = 8.48432\n"
     ]
    }
   ],
   "source": [
    "eval_metrics = estimator.evaluate(input_fn=eval_input_func,steps=1000)"
   ]
  },
  {
   "cell_type": "markdown",
   "metadata": {},
   "source": [
    "Now we are going to compare the results of the evaluation of our train data and test data\n",
    "\n",
    "This is a good way of checking if your model is overfitting to your training data. \n",
    "\n",
    "A good indicator of your model being overfit to your training data is when you have very low loss on training data buy very high loss in your eval data"
   ]
  },
  {
   "cell_type": "code",
   "execution_count": 26,
   "metadata": {},
   "outputs": [
    {
     "name": "stdout",
     "output_type": "stream",
     "text": [
      "TRAINING DATA METRICS\n",
      "{'average_loss': 1.0691862, 'loss': 8.5534897, 'global_step': 1000}\n",
      "\n",
      "\n",
      "EVAL METRICS\n",
      "{'average_loss': 1.0605396, 'loss': 8.4843168, 'global_step': 1000}\n"
     ]
    }
   ],
   "source": [
    "print('TRAINING DATA METRICS')\n",
    "print(train_metrics)\n",
    "print('\\n')\n",
    "print('EVAL METRICS')\n",
    "print(eval_metrics)"
   ]
  },
  {
   "cell_type": "markdown",
   "metadata": {},
   "source": [
    "Then, we want them to be as close as possible to each other and hopefully both of them are low\n",
    "\n",
    "If both loss are very close to each other, then probably the model is not being overfit to your training data\n",
    "\n",
    "The loss is the same as the error of previous examples"
   ]
  },
  {
   "cell_type": "markdown",
   "metadata": {},
   "source": [
    "The question is, how do I predict new values?\n",
    "\n",
    "We start getting data that our model has never seen before"
   ]
  },
  {
   "cell_type": "code",
   "execution_count": 27,
   "metadata": {},
   "outputs": [],
   "source": [
    "brand_new_data = np.linspace(0,10,10)"
   ]
  },
  {
   "cell_type": "code",
   "execution_count": 28,
   "metadata": {},
   "outputs": [],
   "source": [
    "input_fn_predict = tf.estimator.inputs.numpy_input_fn({'x':brand_new_data},shuffle=False)"
   ]
  },
  {
   "cell_type": "code",
   "execution_count": 53,
   "metadata": {},
   "outputs": [
    {
     "data": {
      "text/plain": [
       "<generator object Estimator.predict at 0x7f1f99f03308>"
      ]
     },
     "execution_count": 53,
     "metadata": {},
     "output_type": "execute_result"
    }
   ],
   "source": [
    "estimator.predict(input_fn=input_fn_predict)"
   ]
  },
  {
   "cell_type": "markdown",
   "metadata": {},
   "source": [
    "In order to visualize this data, we have to cast it to a list. Then we plot it to see how it looks like"
   ]
  },
  {
   "cell_type": "code",
   "execution_count": 54,
   "metadata": {},
   "outputs": [
    {
     "name": "stdout",
     "output_type": "stream",
     "text": [
      "INFO:tensorflow:Restoring parameters from /tmp/tmptze5u2lq/model.ckpt-1000\n"
     ]
    },
    {
     "data": {
      "text/plain": [
       "[{'predictions': array([ 4.45525694], dtype=float32)},\n",
       " {'predictions': array([ 5.10063553], dtype=float32)},\n",
       " {'predictions': array([ 5.74601364], dtype=float32)},\n",
       " {'predictions': array([ 6.39139175], dtype=float32)},\n",
       " {'predictions': array([ 7.03677082], dtype=float32)},\n",
       " {'predictions': array([ 7.68214893], dtype=float32)},\n",
       " {'predictions': array([ 8.32752705], dtype=float32)},\n",
       " {'predictions': array([ 8.97290611], dtype=float32)},\n",
       " {'predictions': array([ 9.61828423], dtype=float32)},\n",
       " {'predictions': array([ 10.26366234], dtype=float32)}]"
      ]
     },
     "execution_count": 54,
     "metadata": {},
     "output_type": "execute_result"
    }
   ],
   "source": [
    "list(estimator.predict(input_fn=input_fn_predict))"
   ]
  },
  {
   "cell_type": "code",
   "execution_count": 55,
   "metadata": {},
   "outputs": [
    {
     "name": "stdout",
     "output_type": "stream",
     "text": [
      "INFO:tensorflow:Restoring parameters from /tmp/tmptze5u2lq/model.ckpt-1000\n"
     ]
    }
   ],
   "source": [
    "predictions = []\n",
    "\n",
    "for pred in estimator.predict(input_fn=input_fn_predict):\n",
    "    predictions.append(pred['predictions'])"
   ]
  },
  {
   "cell_type": "code",
   "execution_count": 56,
   "metadata": {},
   "outputs": [
    {
     "data": {
      "text/plain": [
       "[array([ 4.45525694], dtype=float32),\n",
       " array([ 5.10063553], dtype=float32),\n",
       " array([ 5.74601364], dtype=float32),\n",
       " array([ 6.39139175], dtype=float32),\n",
       " array([ 7.03677082], dtype=float32),\n",
       " array([ 7.68214893], dtype=float32),\n",
       " array([ 8.32752705], dtype=float32),\n",
       " array([ 8.97290611], dtype=float32),\n",
       " array([ 9.61828423], dtype=float32),\n",
       " array([ 10.26366234], dtype=float32)]"
      ]
     },
     "execution_count": 56,
     "metadata": {},
     "output_type": "execute_result"
    }
   ],
   "source": [
    "predictions"
   ]
  },
  {
   "cell_type": "code",
   "execution_count": 63,
   "metadata": {},
   "outputs": [
    {
     "data": {
      "text/plain": [
       "[<matplotlib.lines.Line2D at 0x7f1f99b565c0>]"
      ]
     },
     "execution_count": 63,
     "metadata": {},
     "output_type": "execute_result"
    },
    {
     "data": {
      "image/png": "[encoded data removed]",
      "text/plain": [
       "<matplotlib.figure.Figure at 0x7f1f99becda0>"
      ]
     },
     "metadata": {},
     "output_type": "display_data"
    }
   ],
   "source": [
    "my_data.sample(250).plot(kind='scatter',x='X data',y='Y')\n",
    "plt.plot(brand_new_data,predictions,'red')"
   ]
  },
  {
   "cell_type": "markdown",
   "metadata": {},
   "source": [
    "Here we can see we have kind of the same prediction line we got the last time"
   ]
  },
  {
   "cell_type": "markdown",
   "metadata": {},
   "source": [
    "## 2- Classification Example"
   ]
  },
  {
   "cell_type": "code",
   "execution_count": null,
   "metadata": {},
   "outputs": [],
   "source": []
  }
 ],
 "metadata": {
  "kernelspec": {
   "display_name": "Python 3",
   "language": "python",
   "name": "python3"
  },
  "language_info": {
   "codemirror_mode": {
    "name": "ipython",
    "version": 3
   },
   "file_extension": ".py",
   "mimetype": "text/x-python",
   "name": "python",
   "nbconvert_exporter": "python",
   "pygments_lexer": "ipython3",
   "version": "3.6.5"
  }
 },
 "nbformat": 4,
 "nbformat_minor": 2
}
