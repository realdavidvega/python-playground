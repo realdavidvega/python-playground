{
 "cells": [
  {
   "cell_type": "markdown",
   "metadata": {},
   "source": [
    "# 02- TensorFlow Estimator API"
   ]
  },
  {
   "cell_type": "markdown",
   "metadata": {},
   "source": [
    "## 1- Regression Example"
   ]
  },
  {
   "cell_type": "markdown",
   "metadata": {},
   "source": [
    "First of all, we import our ML libraries"
   ]
  },
  {
   "cell_type": "code",
   "execution_count": 2,
   "metadata": {},
   "outputs": [],
   "source": [
    "import tensorflow as tf\n",
    "import numpy as np\n",
    "import pandas as pd\n",
    "import matplotlib.pyplot as plt"
   ]
  },
  {
   "cell_type": "markdown",
   "metadata": {},
   "source": [
    "As before, we create our data sample: y = 0.5*x + 5 + noise\n",
    "\n",
    "Remember this is just an example"
   ]
  },
  {
   "cell_type": "code",
   "execution_count": 57,
   "metadata": {},
   "outputs": [],
   "source": [
    "x_data = np.linspace(0.0,10,1000000)\n",
    "noise = np.random.randn(len(x_data))\n",
    "\n",
    "y_true = (0.5 * x_data) + 5 + noise\n",
    "\n",
    "x_df = pd.DataFrame(data=x_data,columns=['X data'])\n",
    "y_df = pd.DataFrame(data=y_true, columns=['Y'])\n",
    "\n",
    "my_data = pd.concat([x_df,y_df],axis=1)"
   ]
  },
  {
   "cell_type": "markdown",
   "metadata": {},
   "source": [
    "Now we have to create our feature columns for the estimator"
   ]
  },
  {
   "cell_type": "code",
   "execution_count": 3,
   "metadata": {},
   "outputs": [],
   "source": [
    "feat_cols = [ tf.feature_column.numeric_column('x',shape=[1]) ]"
   ]
  },
  {
   "cell_type": "code",
   "execution_count": 4,
   "metadata": {},
   "outputs": [
    {
     "name": "stdout",
     "output_type": "stream",
     "text": [
      "INFO:tensorflow:Using default config.\n",
      "WARNING:tensorflow:Using temporary folder as model directory: /tmp/tmptze5u2lq\n",
      "INFO:tensorflow:Using config: {'_model_dir': '/tmp/tmptze5u2lq', '_tf_random_seed': None, '_save_summary_steps': 100, '_save_checkpoints_steps': None, '_save_checkpoints_secs': 600, '_session_config': None, '_keep_checkpoint_max': 5, '_keep_checkpoint_every_n_hours': 10000, '_log_step_count_steps': 100, '_service': None, '_cluster_spec': <tensorflow.python.training.server_lib.ClusterSpec object at 0x7f1f9c16f278>, '_task_type': 'worker', '_task_id': 0, '_master': '', '_is_chief': True, '_num_ps_replicas': 0, '_num_worker_replicas': 1}\n"
     ]
    }
   ],
   "source": [
    "estimator = tf.estimator.LinearRegressor(feature_columns=feat_cols)"
   ]
  },
  {
   "cell_type": "markdown",
   "metadata": {},
   "source": [
    "Don't bother about that warnings, it's just information\n",
    "\n",
    "Now let's create our Model with sklearn and make the split of 30% for testing and 70% for training"
   ]
  },
  {
   "cell_type": "code",
   "execution_count": 5,
   "metadata": {},
   "outputs": [],
   "source": [
    "from sklearn.model_selection import train_test_split"
   ]
  },
  {
   "cell_type": "code",
   "execution_count": 8,
   "metadata": {},
   "outputs": [],
   "source": [
    "x_train, x_eval, y_train, y_eval = train_test_split(x_data,y_true,test_size=0.3,random_state=101)"
   ]
  },
  {
   "cell_type": "markdown",
   "metadata": {},
   "source": [
    "Now we are going to see some values of our train models and evaluate models, as well as its shape"
   ]
  },
  {
   "cell_type": "code",
   "execution_count": 10,
   "metadata": {},
   "outputs": [
    {
     "name": "stdout",
     "output_type": "stream",
     "text": [
      "[ 6.83743684  5.66519567  3.97899398 ...,  4.76497476  2.14539215\n",
      "  1.76991177]\n",
      "(700000,)\n"
     ]
    }
   ],
   "source": [
    "print(x_train)\n",
    "print(x_train.shape)"
   ]
  },
  {
   "cell_type": "code",
   "execution_count": 11,
   "metadata": {},
   "outputs": [
    {
     "name": "stdout",
     "output_type": "stream",
     "text": [
      "[ 1.80580181  2.0977321   8.20631821 ...,  6.52283652  9.97530998\n",
      "  3.97208397]\n",
      "(300000,)\n"
     ]
    }
   ],
   "source": [
    "print(x_eval)\n",
    "print(x_eval.shape)"
   ]
  },
  {
   "cell_type": "markdown",
   "metadata": {},
   "source": [
    "As you see it makes sense, 30% for evaluation and 70% for training\n",
    "\n",
    "We need to setup our estimator inputs. The estimator function acts like the feed dictionary and batch size"
   ]
  },
  {
   "cell_type": "code",
   "execution_count": 12,
   "metadata": {},
   "outputs": [],
   "source": [
    "input_func = tf.estimator.inputs.numpy_input_fn({'x':x_train},y_train,batch_size=8,num_epochs=None,shuffle=True)"
   ]
  },
  {
   "cell_type": "markdown",
   "metadata": {},
   "source": [
    "Now we need to create more input functions for our test data and train data\n",
    "\n",
    "Shuffle is false because this function is going to be used in order to evaluate against the test data"
   ]
  },
  {
   "cell_type": "code",
   "execution_count": 13,
   "metadata": {},
   "outputs": [],
   "source": [
    "train_input_func = tf.estimator.inputs.numpy_input_fn({'x':x_train},y_train,batch_size=8,num_epochs=1000,shuffle=False)"
   ]
  },
  {
   "cell_type": "code",
   "execution_count": 17,
   "metadata": {},
   "outputs": [],
   "source": [
    "eval_input_func = tf.estimator.inputs.numpy_input_fn({'x':x_eval},y_eval,batch_size=8,num_epochs=1000,shuffle=False)"
   ]
  },
  {
   "cell_type": "markdown",
   "metadata": {},
   "source": [
    "We need to train our estimator"
   ]
  },
  {
   "cell_type": "code",
   "execution_count": 18,
   "metadata": {},
   "outputs": [
    {
     "name": "stdout",
     "output_type": "stream",
     "text": [
      "INFO:tensorflow:Create CheckpointSaverHook.\n",
      "INFO:tensorflow:Saving checkpoints for 1 into /tmp/tmptze5u2lq/model.ckpt.\n",
      "INFO:tensorflow:loss = 474.094, step = 1\n",
      "INFO:tensorflow:global_step/sec: 477.512\n",
      "INFO:tensorflow:loss = 15.7293, step = 101 (0.218 sec)\n",
      "INFO:tensorflow:global_step/sec: 571.167\n",
      "INFO:tensorflow:loss = 36.3777, step = 201 (0.168 sec)\n",
      "INFO:tensorflow:global_step/sec: 534.144\n",
      "INFO:tensorflow:loss = 26.503, step = 301 (0.189 sec)\n",
      "INFO:tensorflow:global_step/sec: 604.972\n",
      "INFO:tensorflow:loss = 14.8078, step = 401 (0.165 sec)\n",
      "INFO:tensorflow:global_step/sec: 290.543\n",
      "INFO:tensorflow:loss = 7.04009, step = 501 (0.354 sec)\n",
      "INFO:tensorflow:global_step/sec: 416.346\n",
      "INFO:tensorflow:loss = 13.5732, step = 601 (0.234 sec)\n",
      "INFO:tensorflow:global_step/sec: 444.444\n",
      "INFO:tensorflow:loss = 7.81547, step = 701 (0.219 sec)\n",
      "INFO:tensorflow:global_step/sec: 499.998\n",
      "INFO:tensorflow:loss = 9.39688, step = 801 (0.203 sec)\n",
      "INFO:tensorflow:global_step/sec: 587.436\n",
      "INFO:tensorflow:loss = 8.45447, step = 901 (0.170 sec)\n",
      "INFO:tensorflow:Saving checkpoints for 1000 into /tmp/tmptze5u2lq/model.ckpt.\n",
      "INFO:tensorflow:Loss for final step: 3.54717.\n"
     ]
    },
    {
     "data": {
      "text/plain": [
       "<tensorflow.python.estimator.canned.linear.LinearRegressor at 0x7f1f9c3f9dd8>"
      ]
     },
     "execution_count": 18,
     "metadata": {},
     "output_type": "execute_result"
    }
   ],
   "source": [
    "estimator.train(input_fn=input_func,steps=1000)"
   ]
  },
  {
   "cell_type": "markdown",
   "metadata": {},
   "source": [
    "Here we can see some information related to the training\n",
    "\n",
    "After that, we need to get some sort of evaluation metrics for our train model, and the Estimator API also have nice methods to do that"
   ]
  },
  {
   "cell_type": "code",
   "execution_count": 20,
   "metadata": {},
   "outputs": [
    {
     "name": "stdout",
     "output_type": "stream",
     "text": [
      "INFO:tensorflow:Starting evaluation at 2018-07-04-12:47:55\n",
      "INFO:tensorflow:Restoring parameters from /tmp/tmptze5u2lq/model.ckpt-1000\n",
      "INFO:tensorflow:Evaluation [100/1000]\n",
      "INFO:tensorflow:Evaluation [200/1000]\n",
      "INFO:tensorflow:Evaluation [300/1000]\n",
      "INFO:tensorflow:Evaluation [400/1000]\n",
      "INFO:tensorflow:Evaluation [500/1000]\n",
      "INFO:tensorflow:Evaluation [600/1000]\n",
      "INFO:tensorflow:Evaluation [700/1000]\n",
      "INFO:tensorflow:Evaluation [800/1000]\n",
      "INFO:tensorflow:Evaluation [900/1000]\n",
      "INFO:tensorflow:Evaluation [1000/1000]\n",
      "INFO:tensorflow:Finished evaluation at 2018-07-04-12:47:57\n",
      "INFO:tensorflow:Saving dict for global step 1000: average_loss = 1.06919, global_step = 1000, loss = 8.55349\n"
     ]
    }
   ],
   "source": [
    "train_metrics = estimator.evaluate(input_fn=train_input_func,steps=1000)"
   ]
  },
  {
   "cell_type": "markdown",
   "metadata": {},
   "source": [
    "Also, we need to get the evaluation metrics of the test model"
   ]
  },
  {
   "cell_type": "code",
   "execution_count": 22,
   "metadata": {},
   "outputs": [
    {
     "name": "stdout",
     "output_type": "stream",
     "text": [
      "INFO:tensorflow:Starting evaluation at 2018-07-04-12:50:26\n",
      "INFO:tensorflow:Restoring parameters from /tmp/tmptze5u2lq/model.ckpt-1000\n",
      "INFO:tensorflow:Evaluation [100/1000]\n",
      "INFO:tensorflow:Evaluation [200/1000]\n",
      "INFO:tensorflow:Evaluation [300/1000]\n",
      "INFO:tensorflow:Evaluation [400/1000]\n",
      "INFO:tensorflow:Evaluation [500/1000]\n",
      "INFO:tensorflow:Evaluation [600/1000]\n",
      "INFO:tensorflow:Evaluation [700/1000]\n",
      "INFO:tensorflow:Evaluation [800/1000]\n",
      "INFO:tensorflow:Evaluation [900/1000]\n",
      "INFO:tensorflow:Evaluation [1000/1000]\n",
      "INFO:tensorflow:Finished evaluation at 2018-07-04-12:50:28\n",
      "INFO:tensorflow:Saving dict for global step 1000: average_loss = 1.06054, global_step = 1000, loss = 8.48432\n"
     ]
    }
   ],
   "source": [
    "eval_metrics = estimator.evaluate(input_fn=eval_input_func,steps=1000)"
   ]
  },
  {
   "cell_type": "markdown",
   "metadata": {},
   "source": [
    "Now we are going to compare the results of the evaluation of our train data and test data\n",
    "\n",
    "This is a good way of checking if your model is overfitting to your training data. \n",
    "\n",
    "A good indicator of your model being overfit to your training data is when you have very low loss on training data buy very high loss in your eval data"
   ]
  },
  {
   "cell_type": "code",
   "execution_count": 26,
   "metadata": {},
   "outputs": [
    {
     "name": "stdout",
     "output_type": "stream",
     "text": [
      "TRAINING DATA METRICS\n",
      "{'average_loss': 1.0691862, 'loss': 8.5534897, 'global_step': 1000}\n",
      "\n",
      "\n",
      "EVAL METRICS\n",
      "{'average_loss': 1.0605396, 'loss': 8.4843168, 'global_step': 1000}\n"
     ]
    }
   ],
   "source": [
    "print('TRAINING DATA METRICS')\n",
    "print(train_metrics)\n",
    "print('\\n')\n",
    "print('EVAL METRICS')\n",
    "print(eval_metrics)"
   ]
  },
  {
   "cell_type": "markdown",
   "metadata": {},
   "source": [
    "Then, we want them to be as close as possible to each other and hopefully both of them are low\n",
    "\n",
    "If both loss are very close to each other, then probably the model is not being overfit to your training data\n",
    "\n",
    "The loss is the same as the error of previous examples"
   ]
  },
  {
   "cell_type": "markdown",
   "metadata": {},
   "source": [
    "The question is, how do I predict new values?\n",
    "\n",
    "We start getting data that our model has never seen before"
   ]
  },
  {
   "cell_type": "code",
   "execution_count": 27,
   "metadata": {},
   "outputs": [],
   "source": [
    "brand_new_data = np.linspace(0,10,10)"
   ]
  },
  {
   "cell_type": "code",
   "execution_count": 28,
   "metadata": {},
   "outputs": [],
   "source": [
    "input_fn_predict = tf.estimator.inputs.numpy_input_fn({'x':brand_new_data},shuffle=False)"
   ]
  },
  {
   "cell_type": "code",
   "execution_count": 53,
   "metadata": {},
   "outputs": [
    {
     "data": {
      "text/plain": [
       "<generator object Estimator.predict at 0x7f1f99f03308>"
      ]
     },
     "execution_count": 53,
     "metadata": {},
     "output_type": "execute_result"
    }
   ],
   "source": [
    "estimator.predict(input_fn=input_fn_predict)"
   ]
  },
  {
   "cell_type": "markdown",
   "metadata": {},
   "source": [
    "In order to visualize this data, we have to cast it to a list. Then we plot it to see how it looks like"
   ]
  },
  {
   "cell_type": "code",
   "execution_count": 54,
   "metadata": {},
   "outputs": [
    {
     "name": "stdout",
     "output_type": "stream",
     "text": [
      "INFO:tensorflow:Restoring parameters from /tmp/tmptze5u2lq/model.ckpt-1000\n"
     ]
    },
    {
     "data": {
      "text/plain": [
       "[{'predictions': array([ 4.45525694], dtype=float32)},\n",
       " {'predictions': array([ 5.10063553], dtype=float32)},\n",
       " {'predictions': array([ 5.74601364], dtype=float32)},\n",
       " {'predictions': array([ 6.39139175], dtype=float32)},\n",
       " {'predictions': array([ 7.03677082], dtype=float32)},\n",
       " {'predictions': array([ 7.68214893], dtype=float32)},\n",
       " {'predictions': array([ 8.32752705], dtype=float32)},\n",
       " {'predictions': array([ 8.97290611], dtype=float32)},\n",
       " {'predictions': array([ 9.61828423], dtype=float32)},\n",
       " {'predictions': array([ 10.26366234], dtype=float32)}]"
      ]
     },
     "execution_count": 54,
     "metadata": {},
     "output_type": "execute_result"
    }
   ],
   "source": [
    "list(estimator.predict(input_fn=input_fn_predict))"
   ]
  },
  {
   "cell_type": "code",
   "execution_count": 55,
   "metadata": {},
   "outputs": [
    {
     "name": "stdout",
     "output_type": "stream",
     "text": [
      "INFO:tensorflow:Restoring parameters from /tmp/tmptze5u2lq/model.ckpt-1000\n"
     ]
    }
   ],
   "source": [
    "predictions = []\n",
    "\n",
    "for pred in estimator.predict(input_fn=input_fn_predict):\n",
    "    predictions.append(pred['predictions'])"
   ]
  },
  {
   "cell_type": "code",
   "execution_count": 56,
   "metadata": {},
   "outputs": [
    {
     "data": {
      "text/plain": [
       "[array([ 4.45525694], dtype=float32),\n",
       " array([ 5.10063553], dtype=float32),\n",
       " array([ 5.74601364], dtype=float32),\n",
       " array([ 6.39139175], dtype=float32),\n",
       " array([ 7.03677082], dtype=float32),\n",
       " array([ 7.68214893], dtype=float32),\n",
       " array([ 8.32752705], dtype=float32),\n",
       " array([ 8.97290611], dtype=float32),\n",
       " array([ 9.61828423], dtype=float32),\n",
       " array([ 10.26366234], dtype=float32)]"
      ]
     },
     "execution_count": 56,
     "metadata": {},
     "output_type": "execute_result"
    }
   ],
   "source": [
    "predictions"
   ]
  },
  {
   "cell_type": "code",
   "execution_count": 63,
   "metadata": {},
   "outputs": [
    {
     "data": {
      "text/plain": [
       "[<matplotlib.lines.Line2D at 0x7f1f99b565c0>]"
      ]
     },
     "execution_count": 63,
     "metadata": {},
     "output_type": "execute_result"
    },
    {
     "data": {
      "image/png": "[encoded data removed]",
      "text/plain": [
       "<matplotlib.figure.Figure at 0x7f1f99becda0>"
      ]
     },
     "metadata": {},
     "output_type": "display_data"
    }
   ],
   "source": [
    "my_data.sample(250).plot(kind='scatter',x='X data',y='Y')\n",
    "plt.plot(brand_new_data,predictions,'red')"
   ]
  },
  {
   "cell_type": "markdown",
   "metadata": {},
   "source": [
    "Here we can see we have kind of the same prediction line we got the last time"
   ]
  },
  {
   "cell_type": "markdown",
   "metadata": {},
   "source": [
    "## 2- Classification Example"
   ]
  },
  {
   "cell_type": "markdown",
   "metadata": {},
   "source": [
    "As always, we first import our ML libraries"
   ]
  },
  {
   "cell_type": "code",
   "execution_count": 27,
   "metadata": {},
   "outputs": [],
   "source": [
    "import pandas as pd\n",
    "import tensorflow as tf\n",
    "import matplotlib.pyplot as plt\n",
    "%matplotlib inline"
   ]
  },
  {
   "cell_type": "markdown",
   "metadata": {},
   "source": [
    "Now we need to import the CSV in the same folder of this notebook and we visualize it"
   ]
  },
  {
   "cell_type": "code",
   "execution_count": 13,
   "metadata": {},
   "outputs": [],
   "source": [
    "diabetes = pd.read_csv('pima-indians-diabetes.csv')"
   ]
  },
  {
   "cell_type": "code",
   "execution_count": 14,
   "metadata": {},
   "outputs": [
    {
     "data": {
      "text/html": [
       "<div>\n",
       "<style scoped>\n",
       "    .dataframe tbody tr th:only-of-type {\n",
       "        vertical-align: middle;\n",
       "    }\n",
       "\n",
       "    .dataframe tbody tr th {\n",
       "        vertical-align: top;\n",
       "    }\n",
       "\n",
       "    .dataframe thead th {\n",
       "        text-align: right;\n",
       "    }\n",
       "</style>\n",
       "<table border=\"1\" class=\"dataframe\">\n",
       "  <thead>\n",
       "    <tr style=\"text-align: right;\">\n",
       "      <th></th>\n",
       "      <th>Number_pregnant</th>\n",
       "      <th>Glucose_concentration</th>\n",
       "      <th>Blood_pressure</th>\n",
       "      <th>Triceps</th>\n",
       "      <th>Insulin</th>\n",
       "      <th>BMI</th>\n",
       "      <th>Pedigree</th>\n",
       "      <th>Age</th>\n",
       "      <th>Class</th>\n",
       "      <th>Group</th>\n",
       "    </tr>\n",
       "  </thead>\n",
       "  <tbody>\n",
       "    <tr>\n",
       "      <th>0</th>\n",
       "      <td>6</td>\n",
       "      <td>0.743719</td>\n",
       "      <td>0.590164</td>\n",
       "      <td>0.353535</td>\n",
       "      <td>0.000000</td>\n",
       "      <td>0.500745</td>\n",
       "      <td>0.234415</td>\n",
       "      <td>50</td>\n",
       "      <td>1</td>\n",
       "      <td>B</td>\n",
       "    </tr>\n",
       "    <tr>\n",
       "      <th>1</th>\n",
       "      <td>1</td>\n",
       "      <td>0.427136</td>\n",
       "      <td>0.540984</td>\n",
       "      <td>0.292929</td>\n",
       "      <td>0.000000</td>\n",
       "      <td>0.396423</td>\n",
       "      <td>0.116567</td>\n",
       "      <td>31</td>\n",
       "      <td>0</td>\n",
       "      <td>C</td>\n",
       "    </tr>\n",
       "    <tr>\n",
       "      <th>2</th>\n",
       "      <td>8</td>\n",
       "      <td>0.919598</td>\n",
       "      <td>0.524590</td>\n",
       "      <td>0.000000</td>\n",
       "      <td>0.000000</td>\n",
       "      <td>0.347243</td>\n",
       "      <td>0.253629</td>\n",
       "      <td>32</td>\n",
       "      <td>1</td>\n",
       "      <td>B</td>\n",
       "    </tr>\n",
       "    <tr>\n",
       "      <th>3</th>\n",
       "      <td>1</td>\n",
       "      <td>0.447236</td>\n",
       "      <td>0.540984</td>\n",
       "      <td>0.232323</td>\n",
       "      <td>0.111111</td>\n",
       "      <td>0.418778</td>\n",
       "      <td>0.038002</td>\n",
       "      <td>21</td>\n",
       "      <td>0</td>\n",
       "      <td>B</td>\n",
       "    </tr>\n",
       "    <tr>\n",
       "      <th>4</th>\n",
       "      <td>0</td>\n",
       "      <td>0.688442</td>\n",
       "      <td>0.327869</td>\n",
       "      <td>0.353535</td>\n",
       "      <td>0.198582</td>\n",
       "      <td>0.642325</td>\n",
       "      <td>0.943638</td>\n",
       "      <td>33</td>\n",
       "      <td>1</td>\n",
       "      <td>C</td>\n",
       "    </tr>\n",
       "  </tbody>\n",
       "</table>\n",
       "</div>"
      ],
      "text/plain": [
       "   Number_pregnant  Glucose_concentration  Blood_pressure   Triceps   Insulin  \\\n",
       "0                6               0.743719        0.590164  0.353535  0.000000   \n",
       "1                1               0.427136        0.540984  0.292929  0.000000   \n",
       "2                8               0.919598        0.524590  0.000000  0.000000   \n",
       "3                1               0.447236        0.540984  0.232323  0.111111   \n",
       "4                0               0.688442        0.327869  0.353535  0.198582   \n",
       "\n",
       "        BMI  Pedigree  Age  Class Group  \n",
       "0  0.500745  0.234415   50      1     B  \n",
       "1  0.396423  0.116567   31      0     C  \n",
       "2  0.347243  0.253629   32      1     B  \n",
       "3  0.418778  0.038002   21      0     B  \n",
       "4  0.642325  0.943638   33      1     C  "
      ]
     },
     "execution_count": 14,
     "metadata": {},
     "output_type": "execute_result"
    }
   ],
   "source": [
    "diabetes.head()"
   ]
  },
  {
   "cell_type": "markdown",
   "metadata": {},
   "source": [
    "We have various features and we want to predict the 'Class' feature. This is a binary classification problem\n",
    "\n",
    "The first step is always to clean up the data and that's exactly what we gonna do: normalize our data"
   ]
  },
  {
   "cell_type": "code",
   "execution_count": 15,
   "metadata": {},
   "outputs": [
    {
     "data": {
      "text/plain": [
       "Index(['Number_pregnant', 'Glucose_concentration', 'Blood_pressure', 'Triceps',\n",
       "       'Insulin', 'BMI', 'Pedigree', 'Age', 'Class', 'Group'],\n",
       "      dtype='object')"
      ]
     },
     "execution_count": 15,
     "metadata": {},
     "output_type": "execute_result"
    }
   ],
   "source": [
    "diabetes.columns"
   ]
  },
  {
   "cell_type": "markdown",
   "metadata": {},
   "source": [
    "We remove \"Class\" because that's the feature we want to predict, the \"Group\" because it's a string and the \"Age\" because we are going to play with it\n",
    "\n",
    "We can normalize the data with pandas or with sklearn preprocessing"
   ]
  },
  {
   "cell_type": "code",
   "execution_count": 16,
   "metadata": {},
   "outputs": [],
   "source": [
    "cols_to_norm = ['Number_pregnant', 'Glucose_concentration', 'Blood_pressure', 'Triceps',\n",
    "       'Insulin', 'BMI', 'Pedigree']"
   ]
  },
  {
   "cell_type": "code",
   "execution_count": 17,
   "metadata": {},
   "outputs": [],
   "source": [
    "diabetes[cols_to_norm] = diabetes[cols_to_norm].apply(lambda x: (x - x.min()) / (x.max() - x.min()))"
   ]
  },
  {
   "cell_type": "markdown",
   "metadata": {},
   "source": [
    "Let's see the columns normalized!"
   ]
  },
  {
   "cell_type": "code",
   "execution_count": 18,
   "metadata": {},
   "outputs": [
    {
     "data": {
      "text/html": [
       "<div>\n",
       "<style scoped>\n",
       "    .dataframe tbody tr th:only-of-type {\n",
       "        vertical-align: middle;\n",
       "    }\n",
       "\n",
       "    .dataframe tbody tr th {\n",
       "        vertical-align: top;\n",
       "    }\n",
       "\n",
       "    .dataframe thead th {\n",
       "        text-align: right;\n",
       "    }\n",
       "</style>\n",
       "<table border=\"1\" class=\"dataframe\">\n",
       "  <thead>\n",
       "    <tr style=\"text-align: right;\">\n",
       "      <th></th>\n",
       "      <th>Number_pregnant</th>\n",
       "      <th>Glucose_concentration</th>\n",
       "      <th>Blood_pressure</th>\n",
       "      <th>Triceps</th>\n",
       "      <th>Insulin</th>\n",
       "      <th>BMI</th>\n",
       "      <th>Pedigree</th>\n",
       "      <th>Age</th>\n",
       "      <th>Class</th>\n",
       "      <th>Group</th>\n",
       "    </tr>\n",
       "  </thead>\n",
       "  <tbody>\n",
       "    <tr>\n",
       "      <th>0</th>\n",
       "      <td>0.352941</td>\n",
       "      <td>0.743719</td>\n",
       "      <td>0.590164</td>\n",
       "      <td>0.353535</td>\n",
       "      <td>0.000000</td>\n",
       "      <td>0.500745</td>\n",
       "      <td>0.234415</td>\n",
       "      <td>50</td>\n",
       "      <td>1</td>\n",
       "      <td>B</td>\n",
       "    </tr>\n",
       "    <tr>\n",
       "      <th>1</th>\n",
       "      <td>0.058824</td>\n",
       "      <td>0.427136</td>\n",
       "      <td>0.540984</td>\n",
       "      <td>0.292929</td>\n",
       "      <td>0.000000</td>\n",
       "      <td>0.396423</td>\n",
       "      <td>0.116567</td>\n",
       "      <td>31</td>\n",
       "      <td>0</td>\n",
       "      <td>C</td>\n",
       "    </tr>\n",
       "    <tr>\n",
       "      <th>2</th>\n",
       "      <td>0.470588</td>\n",
       "      <td>0.919598</td>\n",
       "      <td>0.524590</td>\n",
       "      <td>0.000000</td>\n",
       "      <td>0.000000</td>\n",
       "      <td>0.347243</td>\n",
       "      <td>0.253629</td>\n",
       "      <td>32</td>\n",
       "      <td>1</td>\n",
       "      <td>B</td>\n",
       "    </tr>\n",
       "    <tr>\n",
       "      <th>3</th>\n",
       "      <td>0.058824</td>\n",
       "      <td>0.447236</td>\n",
       "      <td>0.540984</td>\n",
       "      <td>0.232323</td>\n",
       "      <td>0.111111</td>\n",
       "      <td>0.418778</td>\n",
       "      <td>0.038002</td>\n",
       "      <td>21</td>\n",
       "      <td>0</td>\n",
       "      <td>B</td>\n",
       "    </tr>\n",
       "    <tr>\n",
       "      <th>4</th>\n",
       "      <td>0.000000</td>\n",
       "      <td>0.688442</td>\n",
       "      <td>0.327869</td>\n",
       "      <td>0.353535</td>\n",
       "      <td>0.198582</td>\n",
       "      <td>0.642325</td>\n",
       "      <td>0.943638</td>\n",
       "      <td>33</td>\n",
       "      <td>1</td>\n",
       "      <td>C</td>\n",
       "    </tr>\n",
       "  </tbody>\n",
       "</table>\n",
       "</div>"
      ],
      "text/plain": [
       "   Number_pregnant  Glucose_concentration  Blood_pressure   Triceps   Insulin  \\\n",
       "0         0.352941               0.743719        0.590164  0.353535  0.000000   \n",
       "1         0.058824               0.427136        0.540984  0.292929  0.000000   \n",
       "2         0.470588               0.919598        0.524590  0.000000  0.000000   \n",
       "3         0.058824               0.447236        0.540984  0.232323  0.111111   \n",
       "4         0.000000               0.688442        0.327869  0.353535  0.198582   \n",
       "\n",
       "        BMI  Pedigree  Age  Class Group  \n",
       "0  0.500745  0.234415   50      1     B  \n",
       "1  0.396423  0.116567   31      0     C  \n",
       "2  0.347243  0.253629   32      1     B  \n",
       "3  0.418778  0.038002   21      0     B  \n",
       "4  0.642325  0.943638   33      1     C  "
      ]
     },
     "execution_count": 18,
     "metadata": {},
     "output_type": "execute_result"
    }
   ],
   "source": [
    "diabetes.head()"
   ]
  },
  {
   "cell_type": "markdown",
   "metadata": {},
   "source": [
    "Now we have to pass our continuous feature columns. All except the 3 last columns are continuous features\n",
    "\n",
    "We could considere age also as a continous feature\n",
    "\n",
    "If you got a very large amount of feature columns, you probably would like to loop through the dataset for example"
   ]
  },
  {
   "cell_type": "code",
   "execution_count": 19,
   "metadata": {},
   "outputs": [],
   "source": [
    "num_preg = tf.feature_column.numeric_column('Number_pregnant')\n",
    "gluc_conc = tf.feature_column.numeric_column('Glucose_concentration')\n",
    "blood_pres = tf.feature_column.numeric_column('Blood_pressure')\n",
    "tric = tf.feature_column.numeric_column('Triceps')\n",
    "ins = tf.feature_column.numeric_column('Insulin')\n",
    "bmi = tf.feature_column.numeric_column('BMI')\n",
    "ped = tf.feature_column.numeric_column('Pedigree')\n",
    "age = tf.feature_column.numeric_column('Age')"
   ]
  },
  {
   "cell_type": "markdown",
   "metadata": {},
   "source": [
    "Now we have the categorical values, we need the non categorical values\n",
    "\n",
    "You can use a vocabulary list or a hash bucket"
   ]
  },
  {
   "cell_type": "code",
   "execution_count": 25,
   "metadata": {},
   "outputs": [],
   "source": [
    "assigned_group_voclist = tf.feature_column.categorical_column_with_vocabulary_list('Group', ['A','B','C','D'])"
   ]
  },
  {
   "cell_type": "markdown",
   "metadata": {},
   "source": [
    "However, the vocabulary list is only when you know how to categorize your data. But you don't always have the most convenient values for that\n",
    "\n",
    "Also you don't want to write lots and lots of different categories, for example countries of the world"
   ]
  },
  {
   "cell_type": "code",
   "execution_count": 24,
   "metadata": {},
   "outputs": [],
   "source": [
    "assigned_group_hashbu = tf.feature_column.categorical_column_with_hash_bucket('Group',hash_bucket_size=10)"
   ]
  },
  {
   "cell_type": "markdown",
   "metadata": {},
   "source": [
    "With this, tensorflow makes automatic categories in the background, based on the size of the hash bucket, which is perfect!"
   ]
  },
  {
   "cell_type": "markdown",
   "metadata": {},
   "source": [
    "Althrough we are using the age as a categorical column, we didn't normalize it and that's because we are going to convert it to a categorical column\n",
    "\n",
    "Sometimes you get more data doing it this way, and that is called feature engineering\n",
    "\n",
    "But first let's plot our data"
   ]
  },
  {
   "cell_type": "code",
   "execution_count": 29,
   "metadata": {},
   "outputs": [
    {
     "data": {
      "text/plain": [
       "<matplotlib.axes._subplots.AxesSubplot at 0x7f6d369c3470>"
      ]
     },
     "execution_count": 29,
     "metadata": {},
     "output_type": "execute_result"
    },
    {
     "data": {
      "image/png": "[encoded data removed]",
      "text/plain": [
       "<Figure size 432x288 with 1 Axes>"
      ]
     },
     "metadata": {},
     "output_type": "display_data"
    }
   ],
   "source": [
    "diabetes['Age'].hist(bins=20)"
   ]
  },
  {
   "cell_type": "markdown",
   "metadata": {},
   "source": [
    "So also I could categorize by Age. Instead of using this variable as continuous I could bucket this together"
   ]
  },
  {
   "cell_type": "code",
   "execution_count": 30,
   "metadata": {},
   "outputs": [],
   "source": [
    "age_bucket = tf.feature_column.bucketized_column(age,boundaries=[20,30,40,50,60,70,80])"
   ]
  },
  {
   "cell_type": "markdown",
   "metadata": {},
   "source": [
    "Now we grab all of our features and make a list with them\n",
    "\n",
    "Then it's time to perform a train test split"
   ]
  },
  {
   "cell_type": "code",
   "execution_count": 31,
   "metadata": {},
   "outputs": [],
   "source": [
    "feat_cols = [num_preg,gluc_conc,blood_pres,tric,ins,bmi,ped,assigned_group_hashbu,age_bucket]"
   ]
  },
  {
   "cell_type": "markdown",
   "metadata": {},
   "source": [
    "We drop the class from our data"
   ]
  },
  {
   "cell_type": "code",
   "execution_count": 34,
   "metadata": {},
   "outputs": [
    {
     "data": {
      "text/html": [
       "<div>\n",
       "<style scoped>\n",
       "    .dataframe tbody tr th:only-of-type {\n",
       "        vertical-align: middle;\n",
       "    }\n",
       "\n",
       "    .dataframe tbody tr th {\n",
       "        vertical-align: top;\n",
       "    }\n",
       "\n",
       "    .dataframe thead th {\n",
       "        text-align: right;\n",
       "    }\n",
       "</style>\n",
       "<table border=\"1\" class=\"dataframe\">\n",
       "  <thead>\n",
       "    <tr style=\"text-align: right;\">\n",
       "      <th></th>\n",
       "      <th>Number_pregnant</th>\n",
       "      <th>Glucose_concentration</th>\n",
       "      <th>Blood_pressure</th>\n",
       "      <th>Triceps</th>\n",
       "      <th>Insulin</th>\n",
       "      <th>BMI</th>\n",
       "      <th>Pedigree</th>\n",
       "      <th>Age</th>\n",
       "      <th>Group</th>\n",
       "    </tr>\n",
       "  </thead>\n",
       "  <tbody>\n",
       "    <tr>\n",
       "      <th>0</th>\n",
       "      <td>0.352941</td>\n",
       "      <td>0.743719</td>\n",
       "      <td>0.590164</td>\n",
       "      <td>0.353535</td>\n",
       "      <td>0.000000</td>\n",
       "      <td>0.500745</td>\n",
       "      <td>0.234415</td>\n",
       "      <td>50</td>\n",
       "      <td>B</td>\n",
       "    </tr>\n",
       "    <tr>\n",
       "      <th>1</th>\n",
       "      <td>0.058824</td>\n",
       "      <td>0.427136</td>\n",
       "      <td>0.540984</td>\n",
       "      <td>0.292929</td>\n",
       "      <td>0.000000</td>\n",
       "      <td>0.396423</td>\n",
       "      <td>0.116567</td>\n",
       "      <td>31</td>\n",
       "      <td>C</td>\n",
       "    </tr>\n",
       "    <tr>\n",
       "      <th>2</th>\n",
       "      <td>0.470588</td>\n",
       "      <td>0.919598</td>\n",
       "      <td>0.524590</td>\n",
       "      <td>0.000000</td>\n",
       "      <td>0.000000</td>\n",
       "      <td>0.347243</td>\n",
       "      <td>0.253629</td>\n",
       "      <td>32</td>\n",
       "      <td>B</td>\n",
       "    </tr>\n",
       "    <tr>\n",
       "      <th>3</th>\n",
       "      <td>0.058824</td>\n",
       "      <td>0.447236</td>\n",
       "      <td>0.540984</td>\n",
       "      <td>0.232323</td>\n",
       "      <td>0.111111</td>\n",
       "      <td>0.418778</td>\n",
       "      <td>0.038002</td>\n",
       "      <td>21</td>\n",
       "      <td>B</td>\n",
       "    </tr>\n",
       "    <tr>\n",
       "      <th>4</th>\n",
       "      <td>0.000000</td>\n",
       "      <td>0.688442</td>\n",
       "      <td>0.327869</td>\n",
       "      <td>0.353535</td>\n",
       "      <td>0.198582</td>\n",
       "      <td>0.642325</td>\n",
       "      <td>0.943638</td>\n",
       "      <td>33</td>\n",
       "      <td>C</td>\n",
       "    </tr>\n",
       "  </tbody>\n",
       "</table>\n",
       "</div>"
      ],
      "text/plain": [
       "   Number_pregnant  Glucose_concentration  Blood_pressure   Triceps   Insulin  \\\n",
       "0         0.352941               0.743719        0.590164  0.353535  0.000000   \n",
       "1         0.058824               0.427136        0.540984  0.292929  0.000000   \n",
       "2         0.470588               0.919598        0.524590  0.000000  0.000000   \n",
       "3         0.058824               0.447236        0.540984  0.232323  0.111111   \n",
       "4         0.000000               0.688442        0.327869  0.353535  0.198582   \n",
       "\n",
       "        BMI  Pedigree  Age Group  \n",
       "0  0.500745  0.234415   50     B  \n",
       "1  0.396423  0.116567   31     C  \n",
       "2  0.347243  0.253629   32     B  \n",
       "3  0.418778  0.038002   21     B  \n",
       "4  0.642325  0.943638   33     C  "
      ]
     },
     "execution_count": 34,
     "metadata": {},
     "output_type": "execute_result"
    }
   ],
   "source": [
    "x_data = diabetes.drop('Class',axis=1)\n",
    "x_data.head()"
   ]
  },
  {
   "cell_type": "markdown",
   "metadata": {},
   "source": [
    "We create a label with our class"
   ]
  },
  {
   "cell_type": "code",
   "execution_count": 36,
   "metadata": {},
   "outputs": [
    {
     "data": {
      "text/plain": [
       "0    1\n",
       "1    0\n",
       "2    1\n",
       "3    0\n",
       "4    1\n",
       "Name: Class, dtype: int64"
      ]
     },
     "execution_count": 36,
     "metadata": {},
     "output_type": "execute_result"
    }
   ],
   "source": [
    "labels = diabetes['Class']\n",
    "labels.head()"
   ]
  },
  {
   "cell_type": "markdown",
   "metadata": {},
   "source": [
    "And now we perform the train test split"
   ]
  },
  {
   "cell_type": "code",
   "execution_count": 37,
   "metadata": {},
   "outputs": [],
   "source": [
    "from sklearn.model_selection import train_test_split"
   ]
  },
  {
   "cell_type": "code",
   "execution_count": 38,
   "metadata": {},
   "outputs": [],
   "source": [
    "X_train, X_test, y_train, y_test = train_test_split(x_data, labels, test_size=0.3, random_state=101)"
   ]
  },
  {
   "cell_type": "markdown",
   "metadata": {},
   "source": [
    "Now we should create an input function and our model"
   ]
  },
  {
   "cell_type": "code",
   "execution_count": 39,
   "metadata": {},
   "outputs": [],
   "source": [
    "input_func = tf.estimator.inputs.pandas_input_fn(x=X_train,y=y_train,batch_size=10,num_epochs=1000,shuffle=True)"
   ]
  },
  {
   "cell_type": "code",
   "execution_count": 40,
   "metadata": {},
   "outputs": [
    {
     "name": "stdout",
     "output_type": "stream",
     "text": [
      "INFO:tensorflow:Using default config.\n",
      "WARNING:tensorflow:Using temporary folder as model directory: /tmp/tmph9p6lyu5\n",
      "INFO:tensorflow:Using config: {'_model_dir': '/tmp/tmph9p6lyu5', '_tf_random_seed': None, '_save_summary_steps': 100, '_save_checkpoints_steps': None, '_save_checkpoints_secs': 600, '_session_config': None, '_keep_checkpoint_max': 5, '_keep_checkpoint_every_n_hours': 10000, '_log_step_count_steps': 100, '_service': None, '_cluster_spec': <tensorflow.python.training.server_lib.ClusterSpec object at 0x7f6d30080a90>, '_task_type': 'worker', '_task_id': 0, '_master': '', '_is_chief': True, '_num_ps_replicas': 0, '_num_worker_replicas': 1}\n"
     ]
    }
   ],
   "source": [
    "model = tf.estimator.LinearClassifier(feature_columns=feat_cols,n_classes=2)"
   ]
  },
  {
   "cell_type": "markdown",
   "metadata": {},
   "source": [
    "We train our model"
   ]
  },
  {
   "cell_type": "code",
   "execution_count": 41,
   "metadata": {},
   "outputs": [
    {
     "name": "stdout",
     "output_type": "stream",
     "text": [
      "INFO:tensorflow:Create CheckpointSaverHook.\n",
      "INFO:tensorflow:Saving checkpoints for 1 into /tmp/tmph9p6lyu5/model.ckpt.\n",
      "INFO:tensorflow:loss = 6.93147, step = 1\n",
      "INFO:tensorflow:global_step/sec: 363.526\n",
      "INFO:tensorflow:loss = 5.70945, step = 101 (0.278 sec)\n",
      "INFO:tensorflow:global_step/sec: 539.186\n",
      "INFO:tensorflow:loss = 2.68404, step = 201 (0.192 sec)\n",
      "INFO:tensorflow:global_step/sec: 480.969\n",
      "INFO:tensorflow:loss = 5.13777, step = 301 (0.203 sec)\n",
      "INFO:tensorflow:global_step/sec: 374.545\n",
      "INFO:tensorflow:loss = 6.17193, step = 401 (0.268 sec)\n",
      "INFO:tensorflow:global_step/sec: 427.14\n",
      "INFO:tensorflow:loss = 4.01439, step = 501 (0.233 sec)\n",
      "INFO:tensorflow:global_step/sec: 347.301\n",
      "INFO:tensorflow:loss = 5.86069, step = 601 (0.287 sec)\n",
      "INFO:tensorflow:global_step/sec: 500.325\n",
      "INFO:tensorflow:loss = 3.1915, step = 701 (0.204 sec)\n",
      "INFO:tensorflow:global_step/sec: 521.824\n",
      "INFO:tensorflow:loss = 4.122, step = 801 (0.189 sec)\n",
      "INFO:tensorflow:global_step/sec: 551.367\n",
      "INFO:tensorflow:loss = 5.71747, step = 901 (0.182 sec)\n",
      "INFO:tensorflow:Saving checkpoints for 1000 into /tmp/tmph9p6lyu5/model.ckpt.\n",
      "INFO:tensorflow:Loss for final step: 11.0214.\n"
     ]
    },
    {
     "data": {
      "text/plain": [
       "<tensorflow.python.estimator.canned.linear.LinearClassifier at 0x7f6d30080ba8>"
      ]
     },
     "execution_count": 41,
     "metadata": {},
     "output_type": "execute_result"
    }
   ],
   "source": [
    "model.train(input_fn=input_func,steps=1000)"
   ]
  },
  {
   "cell_type": "markdown",
   "metadata": {},
   "source": [
    "Now it's time to evaluate our model!\n",
    "\n",
    "Remember to set shuffle to false in order to evaluate in the same order"
   ]
  },
  {
   "cell_type": "code",
   "execution_count": 43,
   "metadata": {},
   "outputs": [],
   "source": [
    "eval_input_func = tf.estimator.inputs.pandas_input_fn(x=X_test,y=y_test,batch_size=10,num_epochs=1,shuffle=False)"
   ]
  },
  {
   "cell_type": "code",
   "execution_count": 44,
   "metadata": {},
   "outputs": [
    {
     "name": "stdout",
     "output_type": "stream",
     "text": [
      "INFO:tensorflow:Starting evaluation at 2018-07-04-19:57:53\n",
      "INFO:tensorflow:Restoring parameters from /tmp/tmph9p6lyu5/model.ckpt-1000\n",
      "INFO:tensorflow:Finished evaluation at 2018-07-04-19:57:54\n",
      "INFO:tensorflow:Saving dict for global step 1000: accuracy = 0.744589, accuracy_baseline = 0.649351, auc = 0.805432, auc_precision_recall = 0.646666, average_loss = 0.52869, global_step = 1000, label/mean = 0.350649, loss = 5.08864, prediction/mean = 0.402147\n"
     ]
    }
   ],
   "source": [
    "results = model.evaluate(eval_input_func)"
   ]
  },
  {
   "cell_type": "code",
   "execution_count": 46,
   "metadata": {},
   "outputs": [
    {
     "data": {
      "text/plain": [
       "{'accuracy': 0.74458873,\n",
       " 'accuracy_baseline': 0.64935064,\n",
       " 'auc': 0.80543214,\n",
       " 'auc_precision_recall': 0.64666599,\n",
       " 'average_loss': 0.52868998,\n",
       " 'label/mean': 0.35064936,\n",
       " 'loss': 5.0886412,\n",
       " 'prediction/mean': 0.40214679,\n",
       " 'global_step': 1000}"
      ]
     },
     "execution_count": 46,
     "metadata": {},
     "output_type": "execute_result"
    }
   ],
   "source": [
    "results"
   ]
  },
  {
   "cell_type": "markdown",
   "metadata": {},
   "source": [
    "Here we can see the results of our training, with 74% of accuracy which is not bad\n",
    "\n",
    "So let's try some predictions after this. \n",
    "\n",
    "Since you don't have prepared any new data, let's pass the test data again, but this time we won't pass the \"y\" value because we want to predict something"
   ]
  },
  {
   "cell_type": "code",
   "execution_count": 47,
   "metadata": {},
   "outputs": [],
   "source": [
    "pred_input_func = tf.estimator.inputs.pandas_input_fn(x=X_test,batch_size=10,num_epochs=1,shuffle=False)"
   ]
  },
  {
   "cell_type": "code",
   "execution_count": 61,
   "metadata": {},
   "outputs": [],
   "source": [
    "predictions = model.predict(pred_input_func)"
   ]
  },
  {
   "cell_type": "code",
   "execution_count": 62,
   "metadata": {},
   "outputs": [
    {
     "name": "stdout",
     "output_type": "stream",
     "text": [
      "INFO:tensorflow:Restoring parameters from /tmp/tmph9p6lyu5/model.ckpt-1000\n"
     ]
    },
    {
     "data": {
      "text/plain": [
       "[{'logits': array([ 0.20641041], dtype=float32),\n",
       "  'logistic': array([ 0.55142015], dtype=float32),\n",
       "  'probabilities': array([ 0.44857982,  0.55142015], dtype=float32),\n",
       "  'class_ids': array([1]),\n",
       "  'classes': array([b'1'], dtype=object)},\n",
       " {'logits': array([ 0.78773415], dtype=float32),\n",
       "  'logistic': array([ 0.68734461], dtype=float32),\n",
       "  'probabilities': array([ 0.31265539,  0.68734461], dtype=float32),\n",
       "  'class_ids': array([1]),\n",
       "  'classes': array([b'1'], dtype=object)},\n",
       " {'logits': array([-0.38361716], dtype=float32),\n",
       "  'logistic': array([ 0.40525478], dtype=float32),\n",
       "  'probabilities': array([ 0.59474522,  0.40525478], dtype=float32),\n",
       "  'class_ids': array([0]),\n",
       "  'classes': array([b'0'], dtype=object)},\n",
       " {'logits': array([-0.43974674], dtype=float32),\n",
       "  'logistic': array([ 0.39180133], dtype=float32),\n",
       "  'probabilities': array([ 0.60819864,  0.3918013 ], dtype=float32),\n",
       "  'class_ids': array([0]),\n",
       "  'classes': array([b'0'], dtype=object)},\n",
       " {'logits': array([-1.50341845], dtype=float32),\n",
       "  'logistic': array([ 0.18191624], dtype=float32),\n",
       "  'probabilities': array([ 0.81808376,  0.18191622], dtype=float32),\n",
       "  'class_ids': array([0]),\n",
       "  'classes': array([b'0'], dtype=object)},\n",
       " {'logits': array([ 1.08297658], dtype=float32),\n",
       "  'logistic': array([ 0.74705684], dtype=float32),\n",
       "  'probabilities': array([ 0.25294316,  0.74705684], dtype=float32),\n",
       "  'class_ids': array([1]),\n",
       "  'classes': array([b'1'], dtype=object)},\n",
       " {'logits': array([ 0.64721847], dtype=float32),\n",
       "  'logistic': array([ 0.65638334], dtype=float32),\n",
       "  'probabilities': array([ 0.3436166 ,  0.65638334], dtype=float32),\n",
       "  'class_ids': array([1]),\n",
       "  'classes': array([b'1'], dtype=object)},\n",
       " {'logits': array([-0.70162553], dtype=float32),\n",
       "  'logistic': array([ 0.33145192], dtype=float32),\n",
       "  'probabilities': array([ 0.66854805,  0.33145192], dtype=float32),\n",
       "  'class_ids': array([0]),\n",
       "  'classes': array([b'0'], dtype=object)},\n",
       " {'logits': array([-1.06057298], dtype=float32),\n",
       "  'logistic': array([ 0.25719997], dtype=float32),\n",
       "  'probabilities': array([ 0.74280006,  0.25719997], dtype=float32),\n",
       "  'class_ids': array([0]),\n",
       "  'classes': array([b'0'], dtype=object)},\n",
       " {'logits': array([-0.92721617], dtype=float32),\n",
       "  'logistic': array([ 0.28348982], dtype=float32),\n",
       "  'probabilities': array([ 0.71651018,  0.28348982], dtype=float32),\n",
       "  'class_ids': array([0]),\n",
       "  'classes': array([b'0'], dtype=object)},\n",
       " {'logits': array([-1.62299418], dtype=float32),\n",
       "  'logistic': array([ 0.16479234], dtype=float32),\n",
       "  'probabilities': array([ 0.8352077 ,  0.16479236], dtype=float32),\n",
       "  'class_ids': array([0]),\n",
       "  'classes': array([b'0'], dtype=object)},\n",
       " {'logits': array([-1.44208479], dtype=float32),\n",
       "  'logistic': array([ 0.19122273], dtype=float32),\n",
       "  'probabilities': array([ 0.80877727,  0.19122271], dtype=float32),\n",
       "  'class_ids': array([0]),\n",
       "  'classes': array([b'0'], dtype=object)},\n",
       " {'logits': array([-0.65523291], dtype=float32),\n",
       "  'logistic': array([ 0.34181127], dtype=float32),\n",
       "  'probabilities': array([ 0.6581887 ,  0.34181127], dtype=float32),\n",
       "  'class_ids': array([0]),\n",
       "  'classes': array([b'0'], dtype=object)},\n",
       " {'logits': array([ 0.29585171], dtype=float32),\n",
       "  'logistic': array([ 0.57342815], dtype=float32),\n",
       "  'probabilities': array([ 0.42657191,  0.57342815], dtype=float32),\n",
       "  'class_ids': array([1]),\n",
       "  'classes': array([b'1'], dtype=object)},\n",
       " {'logits': array([-1.30154872], dtype=float32),\n",
       "  'logistic': array([ 0.21390447], dtype=float32),\n",
       "  'probabilities': array([ 0.78609556,  0.2139045 ], dtype=float32),\n",
       "  'class_ids': array([0]),\n",
       "  'classes': array([b'0'], dtype=object)},\n",
       " {'logits': array([-0.44882017], dtype=float32),\n",
       "  'logistic': array([ 0.38964131], dtype=float32),\n",
       "  'probabilities': array([ 0.61035866,  0.38964128], dtype=float32),\n",
       "  'class_ids': array([0]),\n",
       "  'classes': array([b'0'], dtype=object)},\n",
       " {'logits': array([-0.26728958], dtype=float32),\n",
       "  'logistic': array([ 0.43357262], dtype=float32),\n",
       "  'probabilities': array([ 0.56642735,  0.43357259], dtype=float32),\n",
       "  'class_ids': array([0]),\n",
       "  'classes': array([b'0'], dtype=object)},\n",
       " {'logits': array([-1.65032482], dtype=float32),\n",
       "  'logistic': array([ 0.16106506], dtype=float32),\n",
       "  'probabilities': array([ 0.83893496,  0.16106506], dtype=float32),\n",
       "  'class_ids': array([0]),\n",
       "  'classes': array([b'0'], dtype=object)},\n",
       " {'logits': array([-0.3533923], dtype=float32),\n",
       "  'logistic': array([ 0.41256005], dtype=float32),\n",
       "  'probabilities': array([ 0.58743995,  0.41256005], dtype=float32),\n",
       "  'class_ids': array([0]),\n",
       "  'classes': array([b'0'], dtype=object)},\n",
       " {'logits': array([-1.5447278], dtype=float32),\n",
       "  'logistic': array([ 0.17584905], dtype=float32),\n",
       "  'probabilities': array([ 0.82415092,  0.17584904], dtype=float32),\n",
       "  'class_ids': array([0]),\n",
       "  'classes': array([b'0'], dtype=object)},\n",
       " {'logits': array([-1.18041718], dtype=float32),\n",
       "  'logistic': array([ 0.2349772], dtype=float32),\n",
       "  'probabilities': array([ 0.76502281,  0.2349772 ], dtype=float32),\n",
       "  'class_ids': array([0]),\n",
       "  'classes': array([b'0'], dtype=object)},\n",
       " {'logits': array([-0.7687968], dtype=float32),\n",
       "  'logistic': array([ 0.31673944], dtype=float32),\n",
       "  'probabilities': array([ 0.68326056,  0.31673944], dtype=float32),\n",
       "  'class_ids': array([0]),\n",
       "  'classes': array([b'0'], dtype=object)},\n",
       " {'logits': array([ 0.60810792], dtype=float32),\n",
       "  'logistic': array([ 0.64750904], dtype=float32),\n",
       "  'probabilities': array([ 0.3524909 ,  0.64750904], dtype=float32),\n",
       "  'class_ids': array([1]),\n",
       "  'classes': array([b'1'], dtype=object)},\n",
       " {'logits': array([-1.05417252], dtype=float32),\n",
       "  'logistic': array([ 0.25842467], dtype=float32),\n",
       "  'probabilities': array([ 0.7415753 ,  0.25842467], dtype=float32),\n",
       "  'class_ids': array([0]),\n",
       "  'classes': array([b'0'], dtype=object)},\n",
       " {'logits': array([-1.29699349], dtype=float32),\n",
       "  'logistic': array([ 0.21467145], dtype=float32),\n",
       "  'probabilities': array([ 0.78532857,  0.21467143], dtype=float32),\n",
       "  'class_ids': array([0]),\n",
       "  'classes': array([b'0'], dtype=object)},\n",
       " {'logits': array([ 1.47786307], dtype=float32),\n",
       "  'logistic': array([ 0.81424963], dtype=float32),\n",
       "  'probabilities': array([ 0.18575041,  0.81424963], dtype=float32),\n",
       "  'class_ids': array([1]),\n",
       "  'classes': array([b'1'], dtype=object)},\n",
       " {'logits': array([-1.44788301], dtype=float32),\n",
       "  'logistic': array([ 0.1903276], dtype=float32),\n",
       "  'probabilities': array([ 0.80967242,  0.19032758], dtype=float32),\n",
       "  'class_ids': array([0]),\n",
       "  'classes': array([b'0'], dtype=object)},\n",
       " {'logits': array([-0.50644183], dtype=float32),\n",
       "  'logistic': array([ 0.376028], dtype=float32),\n",
       "  'probabilities': array([ 0.62397194,  0.37602797], dtype=float32),\n",
       "  'class_ids': array([0]),\n",
       "  'classes': array([b'0'], dtype=object)},\n",
       " {'logits': array([-1.91557491], dtype=float32),\n",
       "  'logistic': array([ 0.12835583], dtype=float32),\n",
       "  'probabilities': array([ 0.8716442 ,  0.12835585], dtype=float32),\n",
       "  'class_ids': array([0]),\n",
       "  'classes': array([b'0'], dtype=object)},\n",
       " {'logits': array([ 0.34051883], dtype=float32),\n",
       "  'logistic': array([ 0.58431655], dtype=float32),\n",
       "  'probabilities': array([ 0.41568345,  0.58431655], dtype=float32),\n",
       "  'class_ids': array([1]),\n",
       "  'classes': array([b'1'], dtype=object)},\n",
       " {'logits': array([ 3.07287908], dtype=float32),\n",
       "  'logistic': array([ 0.95576012], dtype=float32),\n",
       "  'probabilities': array([ 0.04423993,  0.95576012], dtype=float32),\n",
       "  'class_ids': array([1]),\n",
       "  'classes': array([b'1'], dtype=object)},\n",
       " {'logits': array([-0.13505119], dtype=float32),\n",
       "  'logistic': array([ 0.46628842], dtype=float32),\n",
       "  'probabilities': array([ 0.53371155,  0.46628839], dtype=float32),\n",
       "  'class_ids': array([0]),\n",
       "  'classes': array([b'0'], dtype=object)},\n",
       " {'logits': array([-0.49750674], dtype=float32),\n",
       "  'logistic': array([ 0.37812677], dtype=float32),\n",
       "  'probabilities': array([ 0.6218732 ,  0.37812677], dtype=float32),\n",
       "  'class_ids': array([0]),\n",
       "  'classes': array([b'0'], dtype=object)},\n",
       " {'logits': array([ 0.30262554], dtype=float32),\n",
       "  'logistic': array([ 0.57508421], dtype=float32),\n",
       "  'probabilities': array([ 0.42491576,  0.57508421], dtype=float32),\n",
       "  'class_ids': array([1]),\n",
       "  'classes': array([b'1'], dtype=object)},\n",
       " {'logits': array([-0.90090579], dtype=float32),\n",
       "  'logistic': array([ 0.2888644], dtype=float32),\n",
       "  'probabilities': array([ 0.71113557,  0.28886437], dtype=float32),\n",
       "  'class_ids': array([0]),\n",
       "  'classes': array([b'0'], dtype=object)},\n",
       " {'logits': array([-0.37475508], dtype=float32),\n",
       "  'logistic': array([ 0.40739253], dtype=float32),\n",
       "  'probabilities': array([ 0.5926075 ,  0.40739253], dtype=float32),\n",
       "  'class_ids': array([0]),\n",
       "  'classes': array([b'0'], dtype=object)},\n",
       " {'logits': array([-0.03633338], dtype=float32),\n",
       "  'logistic': array([ 0.49091762], dtype=float32),\n",
       "  'probabilities': array([ 0.50908232,  0.49091762], dtype=float32),\n",
       "  'class_ids': array([0]),\n",
       "  'classes': array([b'0'], dtype=object)},\n",
       " {'logits': array([ 0.57860458], dtype=float32),\n",
       "  'logistic': array([ 0.6407463], dtype=float32),\n",
       "  'probabilities': array([ 0.35925376,  0.6407463 ], dtype=float32),\n",
       "  'class_ids': array([1]),\n",
       "  'classes': array([b'1'], dtype=object)},\n",
       " {'logits': array([ 1.30211687], dtype=float32),\n",
       "  'logistic': array([ 0.78619105], dtype=float32),\n",
       "  'probabilities': array([ 0.21380897,  0.78619105], dtype=float32),\n",
       "  'class_ids': array([1]),\n",
       "  'classes': array([b'1'], dtype=object)},\n",
       " {'logits': array([-0.44816965], dtype=float32),\n",
       "  'logistic': array([ 0.38979605], dtype=float32),\n",
       "  'probabilities': array([ 0.61020398,  0.38979608], dtype=float32),\n",
       "  'class_ids': array([0]),\n",
       "  'classes': array([b'0'], dtype=object)},\n",
       " {'logits': array([-1.40081871], dtype=float32),\n",
       "  'logistic': array([ 0.19768623], dtype=float32),\n",
       "  'probabilities': array([ 0.8023138 ,  0.19768624], dtype=float32),\n",
       "  'class_ids': array([0]),\n",
       "  'classes': array([b'0'], dtype=object)},\n",
       " {'logits': array([ 0.49135017], dtype=float32),\n",
       "  'logistic': array([ 0.62042445], dtype=float32),\n",
       "  'probabilities': array([ 0.37957555,  0.62042445], dtype=float32),\n",
       "  'class_ids': array([1]),\n",
       "  'classes': array([b'1'], dtype=object)},\n",
       " {'logits': array([-1.45887113], dtype=float32),\n",
       "  'logistic': array([ 0.18864004], dtype=float32),\n",
       "  'probabilities': array([ 0.81135994,  0.18864004], dtype=float32),\n",
       "  'class_ids': array([0]),\n",
       "  'classes': array([b'0'], dtype=object)},\n",
       " {'logits': array([ 0.17822778], dtype=float32),\n",
       "  'logistic': array([ 0.54443938], dtype=float32),\n",
       "  'probabilities': array([ 0.45556062,  0.54443938], dtype=float32),\n",
       "  'class_ids': array([1]),\n",
       "  'classes': array([b'1'], dtype=object)},\n",
       " {'logits': array([-1.56840968], dtype=float32),\n",
       "  'logistic': array([ 0.17244323], dtype=float32),\n",
       "  'probabilities': array([ 0.82755679,  0.17244323], dtype=float32),\n",
       "  'class_ids': array([0]),\n",
       "  'classes': array([b'0'], dtype=object)},\n",
       " {'logits': array([-1.82570195], dtype=float32),\n",
       "  'logistic': array([ 0.13875109], dtype=float32),\n",
       "  'probabilities': array([ 0.86124885,  0.13875107], dtype=float32),\n",
       "  'class_ids': array([0]),\n",
       "  'classes': array([b'0'], dtype=object)},\n",
       " {'logits': array([ 0.61964345], dtype=float32),\n",
       "  'logistic': array([ 0.65013748], dtype=float32),\n",
       "  'probabilities': array([ 0.34986258,  0.65013748], dtype=float32),\n",
       "  'class_ids': array([1]),\n",
       "  'classes': array([b'1'], dtype=object)},\n",
       " {'logits': array([-1.24463451], dtype=float32),\n",
       "  'logistic': array([ 0.22363032], dtype=float32),\n",
       "  'probabilities': array([ 0.77636969,  0.22363032], dtype=float32),\n",
       "  'class_ids': array([0]),\n",
       "  'classes': array([b'0'], dtype=object)},\n",
       " {'logits': array([-1.18663418], dtype=float32),\n",
       "  'logistic': array([ 0.23386145], dtype=float32),\n",
       "  'probabilities': array([ 0.76613855,  0.23386146], dtype=float32),\n",
       "  'class_ids': array([0]),\n",
       "  'classes': array([b'0'], dtype=object)},\n",
       " {'logits': array([-1.72369671], dtype=float32),\n",
       "  'logistic': array([ 0.15139562], dtype=float32),\n",
       "  'probabilities': array([ 0.84860438,  0.15139562], dtype=float32),\n",
       "  'class_ids': array([0]),\n",
       "  'classes': array([b'0'], dtype=object)},\n",
       " {'logits': array([-1.31757605], dtype=float32),\n",
       "  'logistic': array([ 0.21122184], dtype=float32),\n",
       "  'probabilities': array([ 0.78877813,  0.21122186], dtype=float32),\n",
       "  'class_ids': array([0]),\n",
       "  'classes': array([b'0'], dtype=object)},\n",
       " {'logits': array([-0.8562324], dtype=float32),\n",
       "  'logistic': array([ 0.29812711], dtype=float32),\n",
       "  'probabilities': array([ 0.70187289,  0.29812708], dtype=float32),\n",
       "  'class_ids': array([0]),\n",
       "  'classes': array([b'0'], dtype=object)},\n",
       " {'logits': array([-0.80694449], dtype=float32),\n",
       "  'logistic': array([ 0.30854198], dtype=float32),\n",
       "  'probabilities': array([ 0.69145799,  0.30854198], dtype=float32),\n",
       "  'class_ids': array([0]),\n",
       "  'classes': array([b'0'], dtype=object)},\n",
       " {'logits': array([-0.42497116], dtype=float32),\n",
       "  'logistic': array([ 0.39532781], dtype=float32),\n",
       "  'probabilities': array([ 0.60467219,  0.39532781], dtype=float32),\n",
       "  'class_ids': array([0]),\n",
       "  'classes': array([b'0'], dtype=object)},\n",
       " {'logits': array([-1.67551661], dtype=float32),\n",
       "  'logistic': array([ 0.15769006], dtype=float32),\n",
       "  'probabilities': array([ 0.84230995,  0.15769006], dtype=float32),\n",
       "  'class_ids': array([0]),\n",
       "  'classes': array([b'0'], dtype=object)},\n",
       " {'logits': array([-0.99866325], dtype=float32),\n",
       "  'logistic': array([ 0.26920432], dtype=float32),\n",
       "  'probabilities': array([ 0.73079568,  0.26920435], dtype=float32),\n",
       "  'class_ids': array([0]),\n",
       "  'classes': array([b'0'], dtype=object)},\n",
       " {'logits': array([-1.03642797], dtype=float32),\n",
       "  'logistic': array([ 0.26183981], dtype=float32),\n",
       "  'probabilities': array([ 0.73816019,  0.26183981], dtype=float32),\n",
       "  'class_ids': array([0]),\n",
       "  'classes': array([b'0'], dtype=object)},\n",
       " {'logits': array([-1.20694971], dtype=float32),\n",
       "  'logistic': array([ 0.23024121], dtype=float32),\n",
       "  'probabilities': array([ 0.76975876,  0.23024121], dtype=float32),\n",
       "  'class_ids': array([0]),\n",
       "  'classes': array([b'0'], dtype=object)},\n",
       " {'logits': array([ 0.04949105], dtype=float32),\n",
       "  'logistic': array([ 0.51237023], dtype=float32),\n",
       "  'probabilities': array([ 0.48762977,  0.51237023], dtype=float32),\n",
       "  'class_ids': array([1]),\n",
       "  'classes': array([b'1'], dtype=object)},\n",
       " {'logits': array([-1.3774004], dtype=float32),\n",
       "  'logistic': array([ 0.20142683], dtype=float32),\n",
       "  'probabilities': array([ 0.7985732 ,  0.20142685], dtype=float32),\n",
       "  'class_ids': array([0]),\n",
       "  'classes': array([b'0'], dtype=object)},\n",
       " {'logits': array([-1.07688904], dtype=float32),\n",
       "  'logistic': array([ 0.2540952], dtype=float32),\n",
       "  'probabilities': array([ 0.7459048,  0.2540952], dtype=float32),\n",
       "  'class_ids': array([0]),\n",
       "  'classes': array([b'0'], dtype=object)},\n",
       " {'logits': array([ 0.58735728], dtype=float32),\n",
       "  'logistic': array([ 0.64275849], dtype=float32),\n",
       "  'probabilities': array([ 0.35724142,  0.64275849], dtype=float32),\n",
       "  'class_ids': array([1]),\n",
       "  'classes': array([b'1'], dtype=object)},\n",
       " {'logits': array([ 0.64949775], dtype=float32),\n",
       "  'logistic': array([ 0.65689725], dtype=float32),\n",
       "  'probabilities': array([ 0.34310272,  0.65689725], dtype=float32),\n",
       "  'class_ids': array([1]),\n",
       "  'classes': array([b'1'], dtype=object)},\n",
       " {'logits': array([ 0.16153193], dtype=float32),\n",
       "  'logistic': array([ 0.54029542], dtype=float32),\n",
       "  'probabilities': array([ 0.45970461,  0.54029542], dtype=float32),\n",
       "  'class_ids': array([1]),\n",
       "  'classes': array([b'1'], dtype=object)},\n",
       " {'logits': array([-0.29954135], dtype=float32),\n",
       "  'logistic': array([ 0.42566961], dtype=float32),\n",
       "  'probabilities': array([ 0.57433039,  0.42566961], dtype=float32),\n",
       "  'class_ids': array([0]),\n",
       "  'classes': array([b'0'], dtype=object)},\n",
       " {'logits': array([ 0.16178024], dtype=float32),\n",
       "  'logistic': array([ 0.54035705], dtype=float32),\n",
       "  'probabilities': array([ 0.45964292,  0.54035705], dtype=float32),\n",
       "  'class_ids': array([1]),\n",
       "  'classes': array([b'1'], dtype=object)},\n",
       " {'logits': array([-1.2269237], dtype=float32),\n",
       "  'logistic': array([ 0.22672032], dtype=float32),\n",
       "  'probabilities': array([ 0.77327973,  0.2267203 ], dtype=float32),\n",
       "  'class_ids': array([0]),\n",
       "  'classes': array([b'0'], dtype=object)},\n",
       " {'logits': array([-1.17538965], dtype=float32),\n",
       "  'logistic': array([ 0.23588218], dtype=float32),\n",
       "  'probabilities': array([ 0.76411784,  0.23588218], dtype=float32),\n",
       "  'class_ids': array([0]),\n",
       "  'classes': array([b'0'], dtype=object)},\n",
       " {'logits': array([-1.64829826], dtype=float32),\n",
       "  'logistic': array([ 0.16133907], dtype=float32),\n",
       "  'probabilities': array([ 0.83866096,  0.16133907], dtype=float32),\n",
       "  'class_ids': array([0]),\n",
       "  'classes': array([b'0'], dtype=object)},\n",
       " {'logits': array([-1.64846683], dtype=float32),\n",
       "  'logistic': array([ 0.16131628], dtype=float32),\n",
       "  'probabilities': array([ 0.83868372,  0.16131626], dtype=float32),\n",
       "  'class_ids': array([0]),\n",
       "  'classes': array([b'0'], dtype=object)},\n",
       " {'logits': array([ 0.72567236], dtype=float32),\n",
       "  'logistic': array([ 0.67385489], dtype=float32),\n",
       "  'probabilities': array([ 0.32614511,  0.67385489], dtype=float32),\n",
       "  'class_ids': array([1]),\n",
       "  'classes': array([b'1'], dtype=object)},\n",
       " {'logits': array([-0.96427649], dtype=float32),\n",
       "  'logistic': array([ 0.27602279], dtype=float32),\n",
       "  'probabilities': array([ 0.72397721,  0.27602279], dtype=float32),\n",
       "  'class_ids': array([0]),\n",
       "  'classes': array([b'0'], dtype=object)},\n",
       " {'logits': array([-0.04123068], dtype=float32),\n",
       "  'logistic': array([ 0.48969382], dtype=float32),\n",
       "  'probabilities': array([ 0.51030624,  0.48969382], dtype=float32),\n",
       "  'class_ids': array([0]),\n",
       "  'classes': array([b'0'], dtype=object)},\n",
       " {'logits': array([ 0.48252821], dtype=float32),\n",
       "  'logistic': array([ 0.61834472], dtype=float32),\n",
       "  'probabilities': array([ 0.38165531,  0.61834472], dtype=float32),\n",
       "  'class_ids': array([1]),\n",
       "  'classes': array([b'1'], dtype=object)},\n",
       " {'logits': array([-0.79692632], dtype=float32),\n",
       "  'logistic': array([ 0.3106834], dtype=float32),\n",
       "  'probabilities': array([ 0.68931657,  0.31068337], dtype=float32),\n",
       "  'class_ids': array([0]),\n",
       "  'classes': array([b'0'], dtype=object)},\n",
       " {'logits': array([ 0.60860991], dtype=float32),\n",
       "  'logistic': array([ 0.64762366], dtype=float32),\n",
       "  'probabilities': array([ 0.35237637,  0.64762366], dtype=float32),\n",
       "  'class_ids': array([1]),\n",
       "  'classes': array([b'1'], dtype=object)},\n",
       " {'logits': array([-1.67188787], dtype=float32),\n",
       "  'logistic': array([ 0.15817264], dtype=float32),\n",
       "  'probabilities': array([ 0.84182739,  0.15817265], dtype=float32),\n",
       "  'class_ids': array([0]),\n",
       "  'classes': array([b'0'], dtype=object)},\n",
       " {'logits': array([ 0.51897895], dtype=float32),\n",
       "  'logistic': array([ 0.62690902], dtype=float32),\n",
       "  'probabilities': array([ 0.37309104,  0.62690902], dtype=float32),\n",
       "  'class_ids': array([1]),\n",
       "  'classes': array([b'1'], dtype=object)},\n",
       " {'logits': array([-1.6770035], dtype=float32),\n",
       "  'logistic': array([ 0.15749267], dtype=float32),\n",
       "  'probabilities': array([ 0.84250736,  0.15749267], dtype=float32),\n",
       "  'class_ids': array([0]),\n",
       "  'classes': array([b'0'], dtype=object)},\n",
       " {'logits': array([ 0.48914719], dtype=float32),\n",
       "  'logistic': array([ 0.61990553], dtype=float32),\n",
       "  'probabilities': array([ 0.3800945 ,  0.61990553], dtype=float32),\n",
       "  'class_ids': array([1]),\n",
       "  'classes': array([b'1'], dtype=object)},\n",
       " {'logits': array([-0.42621958], dtype=float32),\n",
       "  'logistic': array([ 0.39502943], dtype=float32),\n",
       "  'probabilities': array([ 0.60497057,  0.39502943], dtype=float32),\n",
       "  'class_ids': array([0]),\n",
       "  'classes': array([b'0'], dtype=object)},\n",
       " {'logits': array([-1.40611959], dtype=float32),\n",
       "  'logistic': array([ 0.19684681], dtype=float32),\n",
       "  'probabilities': array([ 0.80315316,  0.19684681], dtype=float32),\n",
       "  'class_ids': array([0]),\n",
       "  'classes': array([b'0'], dtype=object)},\n",
       " {'logits': array([ 0.39158976], dtype=float32),\n",
       "  'logistic': array([ 0.59666532], dtype=float32),\n",
       "  'probabilities': array([ 0.40333465,  0.59666532], dtype=float32),\n",
       "  'class_ids': array([1]),\n",
       "  'classes': array([b'1'], dtype=object)},\n",
       " {'logits': array([ 0.6427567], dtype=float32),\n",
       "  'logistic': array([ 0.65537637], dtype=float32),\n",
       "  'probabilities': array([ 0.34462366,  0.65537637], dtype=float32),\n",
       "  'class_ids': array([1]),\n",
       "  'classes': array([b'1'], dtype=object)},\n",
       " {'logits': array([ 0.41507638], dtype=float32),\n",
       "  'logistic': array([ 0.60230446], dtype=float32),\n",
       "  'probabilities': array([ 0.39769554,  0.60230446], dtype=float32),\n",
       "  'class_ids': array([1]),\n",
       "  'classes': array([b'1'], dtype=object)},\n",
       " {'logits': array([-1.49983406], dtype=float32),\n",
       "  'logistic': array([ 0.18245026], dtype=float32),\n",
       "  'probabilities': array([ 0.81754971,  0.18245026], dtype=float32),\n",
       "  'class_ids': array([0]),\n",
       "  'classes': array([b'0'], dtype=object)},\n",
       " {'logits': array([-0.34331691], dtype=float32),\n",
       "  'logistic': array([ 0.41500396], dtype=float32),\n",
       "  'probabilities': array([ 0.58499604,  0.41500401], dtype=float32),\n",
       "  'class_ids': array([0]),\n",
       "  'classes': array([b'0'], dtype=object)},\n",
       " {'logits': array([-1.454669], dtype=float32),\n",
       "  'logistic': array([ 0.18928403], dtype=float32),\n",
       "  'probabilities': array([ 0.81071597,  0.18928406], dtype=float32),\n",
       "  'class_ids': array([0]),\n",
       "  'classes': array([b'0'], dtype=object)},\n",
       " {'logits': array([ 0.98706746], dtype=float32),\n",
       "  'logistic': array([ 0.72850823], dtype=float32),\n",
       "  'probabilities': array([ 0.27149168,  0.72850823], dtype=float32),\n",
       "  'class_ids': array([1]),\n",
       "  'classes': array([b'1'], dtype=object)},\n",
       " {'logits': array([ 1.64207172], dtype=float32),\n",
       "  'logistic': array([ 0.83781666], dtype=float32),\n",
       "  'probabilities': array([ 0.16218336,  0.83781666], dtype=float32),\n",
       "  'class_ids': array([1]),\n",
       "  'classes': array([b'1'], dtype=object)},\n",
       " {'logits': array([ 0.64912975], dtype=float32),\n",
       "  'logistic': array([ 0.65681434], dtype=float32),\n",
       "  'probabilities': array([ 0.34318566,  0.65681434], dtype=float32),\n",
       "  'class_ids': array([1]),\n",
       "  'classes': array([b'1'], dtype=object)},\n",
       " {'logits': array([-1.06127548], dtype=float32),\n",
       "  'logistic': array([ 0.2570658], dtype=float32),\n",
       "  'probabilities': array([ 0.74293417,  0.25706577], dtype=float32),\n",
       "  'class_ids': array([0]),\n",
       "  'classes': array([b'0'], dtype=object)},\n",
       " {'logits': array([ 0.07461083], dtype=float32),\n",
       "  'logistic': array([ 0.51864403], dtype=float32),\n",
       "  'probabilities': array([ 0.48135594,  0.51864403], dtype=float32),\n",
       "  'class_ids': array([1]),\n",
       "  'classes': array([b'1'], dtype=object)},\n",
       " {'logits': array([-0.26063806], dtype=float32),\n",
       "  'logistic': array([ 0.43520686], dtype=float32),\n",
       "  'probabilities': array([ 0.56479311,  0.43520686], dtype=float32),\n",
       "  'class_ids': array([0]),\n",
       "  'classes': array([b'0'], dtype=object)},\n",
       " {'logits': array([-0.10136038], dtype=float32),\n",
       "  'logistic': array([ 0.47468159], dtype=float32),\n",
       "  'probabilities': array([ 0.52531838,  0.47468153], dtype=float32),\n",
       "  'class_ids': array([0]),\n",
       "  'classes': array([b'0'], dtype=object)},\n",
       " {'logits': array([-0.38847256], dtype=float32),\n",
       "  'logistic': array([ 0.40408507], dtype=float32),\n",
       "  'probabilities': array([ 0.59591496,  0.40408507], dtype=float32),\n",
       "  'class_ids': array([0]),\n",
       "  'classes': array([b'0'], dtype=object)},\n",
       " {'logits': array([-0.25573528], dtype=float32),\n",
       "  'logistic': array([ 0.43641233], dtype=float32),\n",
       "  'probabilities': array([ 0.56358761,  0.43641233], dtype=float32),\n",
       "  'class_ids': array([0]),\n",
       "  'classes': array([b'0'], dtype=object)},\n",
       " {'logits': array([-1.46769893], dtype=float32),\n",
       "  'logistic': array([ 0.18729262], dtype=float32),\n",
       "  'probabilities': array([ 0.81270736,  0.18729261], dtype=float32),\n",
       "  'class_ids': array([0]),\n",
       "  'classes': array([b'0'], dtype=object)},\n",
       " {'logits': array([ 0.36936569], dtype=float32),\n",
       "  'logistic': array([ 0.59130567], dtype=float32),\n",
       "  'probabilities': array([ 0.40869427,  0.59130567], dtype=float32),\n",
       "  'class_ids': array([1]),\n",
       "  'classes': array([b'1'], dtype=object)},\n",
       " {'logits': array([ 0.36194205], dtype=float32),\n",
       "  'logistic': array([ 0.5895105], dtype=float32),\n",
       "  'probabilities': array([ 0.41048956,  0.5895105 ], dtype=float32),\n",
       "  'class_ids': array([1]),\n",
       "  'classes': array([b'1'], dtype=object)},\n",
       " {'logits': array([-0.91198725], dtype=float32),\n",
       "  'logistic': array([ 0.28659335], dtype=float32),\n",
       "  'probabilities': array([ 0.71340668,  0.28659338], dtype=float32),\n",
       "  'class_ids': array([0]),\n",
       "  'classes': array([b'0'], dtype=object)},\n",
       " {'logits': array([-1.31005251], dtype=float32),\n",
       "  'logistic': array([ 0.21247806], dtype=float32),\n",
       "  'probabilities': array([ 0.78752196,  0.21247806], dtype=float32),\n",
       "  'class_ids': array([0]),\n",
       "  'classes': array([b'0'], dtype=object)},\n",
       " {'logits': array([-1.45399666], dtype=float32),\n",
       "  'logistic': array([ 0.18938725], dtype=float32),\n",
       "  'probabilities': array([ 0.81061274,  0.18938723], dtype=float32),\n",
       "  'class_ids': array([0]),\n",
       "  'classes': array([b'0'], dtype=object)},\n",
       " {'logits': array([-0.68259859], dtype=float32),\n",
       "  'logistic': array([ 0.33568159], dtype=float32),\n",
       "  'probabilities': array([ 0.66431844,  0.33568156], dtype=float32),\n",
       "  'class_ids': array([0]),\n",
       "  'classes': array([b'0'], dtype=object)},\n",
       " {'logits': array([-0.43750679], dtype=float32),\n",
       "  'logistic': array([ 0.39233521], dtype=float32),\n",
       "  'probabilities': array([ 0.60766476,  0.39233518], dtype=float32),\n",
       "  'class_ids': array([0]),\n",
       "  'classes': array([b'0'], dtype=object)},\n",
       " {'logits': array([-1.61109936], dtype=float32),\n",
       "  'logistic': array([ 0.16643603], dtype=float32),\n",
       "  'probabilities': array([ 0.83356398,  0.16643605], dtype=float32),\n",
       "  'class_ids': array([0]),\n",
       "  'classes': array([b'0'], dtype=object)},\n",
       " {'logits': array([-0.46151721], dtype=float32),\n",
       "  'logistic': array([ 0.38662598], dtype=float32),\n",
       "  'probabilities': array([ 0.61337405,  0.38662598], dtype=float32),\n",
       "  'class_ids': array([0]),\n",
       "  'classes': array([b'0'], dtype=object)},\n",
       " {'logits': array([-0.9514091], dtype=float32),\n",
       "  'logistic': array([ 0.27860153], dtype=float32),\n",
       "  'probabilities': array([ 0.72139853,  0.27860153], dtype=float32),\n",
       "  'class_ids': array([0]),\n",
       "  'classes': array([b'0'], dtype=object)},\n",
       " {'logits': array([-1.96900237], dtype=float32),\n",
       "  'logistic': array([ 0.12249608], dtype=float32),\n",
       "  'probabilities': array([ 0.87750387,  0.12249608], dtype=float32),\n",
       "  'class_ids': array([0]),\n",
       "  'classes': array([b'0'], dtype=object)},\n",
       " {'logits': array([-1.67964864], dtype=float32),\n",
       "  'logistic': array([ 0.15714201], dtype=float32),\n",
       "  'probabilities': array([ 0.84285796,  0.15714198], dtype=float32),\n",
       "  'class_ids': array([0]),\n",
       "  'classes': array([b'0'], dtype=object)},\n",
       " {'logits': array([ 1.31828618], dtype=float32),\n",
       "  'logistic': array([ 0.78889644], dtype=float32),\n",
       "  'probabilities': array([ 0.21110356,  0.78889644], dtype=float32),\n",
       "  'class_ids': array([1]),\n",
       "  'classes': array([b'1'], dtype=object)},\n",
       " {'logits': array([-1.43518519], dtype=float32),\n",
       "  'logistic': array([ 0.19229206], dtype=float32),\n",
       "  'probabilities': array([ 0.80770797,  0.19229205], dtype=float32),\n",
       "  'class_ids': array([0]),\n",
       "  'classes': array([b'0'], dtype=object)},\n",
       " {'logits': array([-1.65526891], dtype=float32),\n",
       "  'logistic': array([ 0.16039811], dtype=float32),\n",
       "  'probabilities': array([ 0.83960193,  0.16039813], dtype=float32),\n",
       "  'class_ids': array([0]),\n",
       "  'classes': array([b'0'], dtype=object)},\n",
       " {'logits': array([-1.50862265], dtype=float32),\n",
       "  'logistic': array([ 0.181143], dtype=float32),\n",
       "  'probabilities': array([ 0.81885701,  0.18114302], dtype=float32),\n",
       "  'class_ids': array([0]),\n",
       "  'classes': array([b'0'], dtype=object)},\n",
       " {'logits': array([ 0.2274226], dtype=float32),\n",
       "  'logistic': array([ 0.55661184], dtype=float32),\n",
       "  'probabilities': array([ 0.44338813,  0.55661184], dtype=float32),\n",
       "  'class_ids': array([1]),\n",
       "  'classes': array([b'1'], dtype=object)},\n",
       " {'logits': array([-0.07034767], dtype=float32),\n",
       "  'logistic': array([ 0.4824203], dtype=float32),\n",
       "  'probabilities': array([ 0.51757967,  0.48242036], dtype=float32),\n",
       "  'class_ids': array([0]),\n",
       "  'classes': array([b'0'], dtype=object)},\n",
       " {'logits': array([-1.04191935], dtype=float32),\n",
       "  'logistic': array([ 0.26077983], dtype=float32),\n",
       "  'probabilities': array([ 0.73922014,  0.26077983], dtype=float32),\n",
       "  'class_ids': array([0]),\n",
       "  'classes': array([b'0'], dtype=object)},\n",
       " {'logits': array([ 0.00657266], dtype=float32),\n",
       "  'logistic': array([ 0.50164312], dtype=float32),\n",
       "  'probabilities': array([ 0.49835682,  0.50164312], dtype=float32),\n",
       "  'class_ids': array([1]),\n",
       "  'classes': array([b'1'], dtype=object)},\n",
       " {'logits': array([-1.23611474], dtype=float32),\n",
       "  'logistic': array([ 0.22511299], dtype=float32),\n",
       "  'probabilities': array([ 0.77488697,  0.22511299], dtype=float32),\n",
       "  'class_ids': array([0]),\n",
       "  'classes': array([b'0'], dtype=object)},\n",
       " {'logits': array([-0.92004353], dtype=float32),\n",
       "  'logistic': array([ 0.28494903], dtype=float32),\n",
       "  'probabilities': array([ 0.715051  ,  0.28494903], dtype=float32),\n",
       "  'class_ids': array([0]),\n",
       "  'classes': array([b'0'], dtype=object)},\n",
       " {'logits': array([ 0.29385519], dtype=float32),\n",
       "  'logistic': array([ 0.57293969], dtype=float32),\n",
       "  'probabilities': array([ 0.42706034,  0.57293969], dtype=float32),\n",
       "  'class_ids': array([1]),\n",
       "  'classes': array([b'1'], dtype=object)},\n",
       " {'logits': array([ 0.17259121], dtype=float32),\n",
       "  'logistic': array([ 0.54304099], dtype=float32),\n",
       "  'probabilities': array([ 0.45695898,  0.54304099], dtype=float32),\n",
       "  'class_ids': array([1]),\n",
       "  'classes': array([b'1'], dtype=object)},\n",
       " {'logits': array([-1.60898316], dtype=float32),\n",
       "  'logistic': array([ 0.16672984], dtype=float32),\n",
       "  'probabilities': array([ 0.83327013,  0.16672984], dtype=float32),\n",
       "  'class_ids': array([0]),\n",
       "  'classes': array([b'0'], dtype=object)},\n",
       " {'logits': array([-0.19093865], dtype=float32),\n",
       "  'logistic': array([ 0.4524098], dtype=float32),\n",
       "  'probabilities': array([ 0.54759014,  0.4524098 ], dtype=float32),\n",
       "  'class_ids': array([0]),\n",
       "  'classes': array([b'0'], dtype=object)},\n",
       " {'logits': array([ 0.82867408], dtype=float32),\n",
       "  'logistic': array([ 0.69607449], dtype=float32),\n",
       "  'probabilities': array([ 0.30392548,  0.69607449], dtype=float32),\n",
       "  'class_ids': array([1]),\n",
       "  'classes': array([b'1'], dtype=object)},\n",
       " {'logits': array([ 0.37479663], dtype=float32),\n",
       "  'logistic': array([ 0.59261751], dtype=float32),\n",
       "  'probabilities': array([ 0.40738252,  0.59261751], dtype=float32),\n",
       "  'class_ids': array([1]),\n",
       "  'classes': array([b'1'], dtype=object)},\n",
       " {'logits': array([-0.24866343], dtype=float32),\n",
       "  'logistic': array([ 0.43815249], dtype=float32),\n",
       "  'probabilities': array([ 0.56184751,  0.43815249], dtype=float32),\n",
       "  'class_ids': array([0]),\n",
       "  'classes': array([b'0'], dtype=object)},\n",
       " {'logits': array([ 0.46005988], dtype=float32),\n",
       "  'logistic': array([ 0.61302841], dtype=float32),\n",
       "  'probabilities': array([ 0.38697165,  0.61302841], dtype=float32),\n",
       "  'class_ids': array([1]),\n",
       "  'classes': array([b'1'], dtype=object)},\n",
       " {'logits': array([-1.01908636], dtype=float32),\n",
       "  'logistic': array([ 0.26520541], dtype=float32),\n",
       "  'probabilities': array([ 0.73479462,  0.26520541], dtype=float32),\n",
       "  'class_ids': array([0]),\n",
       "  'classes': array([b'0'], dtype=object)},\n",
       " {'logits': array([-1.18272853], dtype=float32),\n",
       "  'logistic': array([ 0.23456195], dtype=float32),\n",
       "  'probabilities': array([ 0.76543808,  0.23456196], dtype=float32),\n",
       "  'class_ids': array([0]),\n",
       "  'classes': array([b'0'], dtype=object)},\n",
       " {'logits': array([-1.65194392], dtype=float32),\n",
       "  'logistic': array([ 0.1608464], dtype=float32),\n",
       "  'probabilities': array([ 0.83915359,  0.1608464 ], dtype=float32),\n",
       "  'class_ids': array([0]),\n",
       "  'classes': array([b'0'], dtype=object)},\n",
       " {'logits': array([-0.77544725], dtype=float32),\n",
       "  'logistic': array([ 0.31530192], dtype=float32),\n",
       "  'probabilities': array([ 0.6846981 ,  0.31530195], dtype=float32),\n",
       "  'class_ids': array([0]),\n",
       "  'classes': array([b'0'], dtype=object)},\n",
       " {'logits': array([ 0.2226783], dtype=float32),\n",
       "  'logistic': array([ 0.55544066], dtype=float32),\n",
       "  'probabilities': array([ 0.44455934,  0.55544066], dtype=float32),\n",
       "  'class_ids': array([1]),\n",
       "  'classes': array([b'1'], dtype=object)},\n",
       " {'logits': array([ 0.76620913], dtype=float32),\n",
       "  'logistic': array([ 0.68270028], dtype=float32),\n",
       "  'probabilities': array([ 0.31729972,  0.68270028], dtype=float32),\n",
       "  'class_ids': array([1]),\n",
       "  'classes': array([b'1'], dtype=object)},\n",
       " {'logits': array([-0.92767042], dtype=float32),\n",
       "  'logistic': array([ 0.28339759], dtype=float32),\n",
       "  'probabilities': array([ 0.71660239,  0.28339756], dtype=float32),\n",
       "  'class_ids': array([0]),\n",
       "  'classes': array([b'0'], dtype=object)},\n",
       " {'logits': array([-1.40573645], dtype=float32),\n",
       "  'logistic': array([ 0.1969074], dtype=float32),\n",
       "  'probabilities': array([ 0.8030926,  0.1969074], dtype=float32),\n",
       "  'class_ids': array([0]),\n",
       "  'classes': array([b'0'], dtype=object)},\n",
       " {'logits': array([-0.04779184], dtype=float32),\n",
       "  'logistic': array([ 0.48805431], dtype=float32),\n",
       "  'probabilities': array([ 0.51194566,  0.48805428], dtype=float32),\n",
       "  'class_ids': array([0]),\n",
       "  'classes': array([b'0'], dtype=object)},\n",
       " {'logits': array([-1.12127757], dtype=float32),\n",
       "  'logistic': array([ 0.24577439], dtype=float32),\n",
       "  'probabilities': array([ 0.75422561,  0.24577437], dtype=float32),\n",
       "  'class_ids': array([0]),\n",
       "  'classes': array([b'0'], dtype=object)},\n",
       " {'logits': array([-1.68982399], dtype=float32),\n",
       "  'logistic': array([ 0.155799], dtype=float32),\n",
       "  'probabilities': array([ 0.84420103,  0.15579899], dtype=float32),\n",
       "  'class_ids': array([0]),\n",
       "  'classes': array([b'0'], dtype=object)},\n",
       " {'logits': array([-1.22998142], dtype=float32),\n",
       "  'logistic': array([ 0.22618468], dtype=float32),\n",
       "  'probabilities': array([ 0.77381527,  0.22618467], dtype=float32),\n",
       "  'class_ids': array([0]),\n",
       "  'classes': array([b'0'], dtype=object)},\n",
       " {'logits': array([-1.68452728], dtype=float32),\n",
       "  'logistic': array([ 0.15649693], dtype=float32),\n",
       "  'probabilities': array([ 0.84350312,  0.15649693], dtype=float32),\n",
       "  'class_ids': array([0]),\n",
       "  'classes': array([b'0'], dtype=object)},\n",
       " {'logits': array([-0.19427562], dtype=float32),\n",
       "  'logistic': array([ 0.45158333], dtype=float32),\n",
       "  'probabilities': array([ 0.54841673,  0.4515833 ], dtype=float32),\n",
       "  'class_ids': array([0]),\n",
       "  'classes': array([b'0'], dtype=object)},\n",
       " {'logits': array([ 1.42237782], dtype=float32),\n",
       "  'logistic': array([ 0.80571097], dtype=float32),\n",
       "  'probabilities': array([ 0.1942891 ,  0.80571097], dtype=float32),\n",
       "  'class_ids': array([1]),\n",
       "  'classes': array([b'1'], dtype=object)},\n",
       " {'logits': array([ 1.36836624], dtype=float32),\n",
       "  'logistic': array([ 0.79711604], dtype=float32),\n",
       "  'probabilities': array([ 0.20288393,  0.79711604], dtype=float32),\n",
       "  'class_ids': array([1]),\n",
       "  'classes': array([b'1'], dtype=object)},\n",
       " {'logits': array([ 0.12816334], dtype=float32),\n",
       "  'logistic': array([ 0.53199703], dtype=float32),\n",
       "  'probabilities': array([ 0.46800292,  0.53199703], dtype=float32),\n",
       "  'class_ids': array([1]),\n",
       "  'classes': array([b'1'], dtype=object)},\n",
       " {'logits': array([ 0.25313509], dtype=float32),\n",
       "  'logistic': array([ 0.56294799], dtype=float32),\n",
       "  'probabilities': array([ 0.43705201,  0.56294799], dtype=float32),\n",
       "  'class_ids': array([1]),\n",
       "  'classes': array([b'1'], dtype=object)},\n",
       " {'logits': array([ 0.51444316], dtype=float32),\n",
       "  'logistic': array([ 0.62584746], dtype=float32),\n",
       "  'probabilities': array([ 0.37415251,  0.62584746], dtype=float32),\n",
       "  'class_ids': array([1]),\n",
       "  'classes': array([b'1'], dtype=object)},\n",
       " {'logits': array([-1.97226429], dtype=float32),\n",
       "  'logistic': array([ 0.12214588], dtype=float32),\n",
       "  'probabilities': array([ 0.87785411,  0.12214588], dtype=float32),\n",
       "  'class_ids': array([0]),\n",
       "  'classes': array([b'0'], dtype=object)},\n",
       " {'logits': array([ 0.38665581], dtype=float32),\n",
       "  'logistic': array([ 0.5954774], dtype=float32),\n",
       "  'probabilities': array([ 0.4045226,  0.5954774], dtype=float32),\n",
       "  'class_ids': array([1]),\n",
       "  'classes': array([b'1'], dtype=object)},\n",
       " {'logits': array([ 1.3980844], dtype=float32),\n",
       "  'logistic': array([ 0.8018797], dtype=float32),\n",
       "  'probabilities': array([ 0.19812025,  0.8018797 ], dtype=float32),\n",
       "  'class_ids': array([1]),\n",
       "  'classes': array([b'1'], dtype=object)},\n",
       " {'logits': array([-0.16982806], dtype=float32),\n",
       "  'logistic': array([ 0.45764473], dtype=float32),\n",
       "  'probabilities': array([ 0.5423553 ,  0.45764476], dtype=float32),\n",
       "  'class_ids': array([0]),\n",
       "  'classes': array([b'0'], dtype=object)},\n",
       " {'logits': array([-0.75433838], dtype=float32),\n",
       "  'logistic': array([ 0.31987673], dtype=float32),\n",
       "  'probabilities': array([ 0.68012327,  0.31987673], dtype=float32),\n",
       "  'class_ids': array([0]),\n",
       "  'classes': array([b'0'], dtype=object)},\n",
       " {'logits': array([-0.49614429], dtype=float32),\n",
       "  'logistic': array([ 0.3784472], dtype=float32),\n",
       "  'probabilities': array([ 0.62155277,  0.37844718], dtype=float32),\n",
       "  'class_ids': array([0]),\n",
       "  'classes': array([b'0'], dtype=object)},\n",
       " {'logits': array([ 0.54017532], dtype=float32),\n",
       "  'logistic': array([ 0.63185316], dtype=float32),\n",
       "  'probabilities': array([ 0.36814678,  0.63185316], dtype=float32),\n",
       "  'class_ids': array([1]),\n",
       "  'classes': array([b'1'], dtype=object)},\n",
       " {'logits': array([-1.07011974], dtype=float32),\n",
       "  'logistic': array([ 0.2553803], dtype=float32),\n",
       "  'probabilities': array([ 0.74461967,  0.2553803 ], dtype=float32),\n",
       "  'class_ids': array([0]),\n",
       "  'classes': array([b'0'], dtype=object)},\n",
       " {'logits': array([ 0.70606148], dtype=float32),\n",
       "  'logistic': array([ 0.66953027], dtype=float32),\n",
       "  'probabilities': array([ 0.33046967,  0.66953027], dtype=float32),\n",
       "  'class_ids': array([1]),\n",
       "  'classes': array([b'1'], dtype=object)},\n",
       " {'logits': array([-0.10700703], dtype=float32),\n",
       "  'logistic': array([ 0.47327369], dtype=float32),\n",
       "  'probabilities': array([ 0.52672631,  0.47327378], dtype=float32),\n",
       "  'class_ids': array([0]),\n",
       "  'classes': array([b'0'], dtype=object)},\n",
       " {'logits': array([-0.08898532], dtype=float32),\n",
       "  'logistic': array([ 0.4777683], dtype=float32),\n",
       "  'probabilities': array([ 0.52223164,  0.4777683 ], dtype=float32),\n",
       "  'class_ids': array([0]),\n",
       "  'classes': array([b'0'], dtype=object)},\n",
       " {'logits': array([-1.5680449], dtype=float32),\n",
       "  'logistic': array([ 0.17249529], dtype=float32),\n",
       "  'probabilities': array([ 0.82750469,  0.17249528], dtype=float32),\n",
       "  'class_ids': array([0]),\n",
       "  'classes': array([b'0'], dtype=object)},\n",
       " {'logits': array([-1.22340357], dtype=float32),\n",
       "  'logistic': array([ 0.22733803], dtype=float32),\n",
       "  'probabilities': array([ 0.77266198,  0.22733805], dtype=float32),\n",
       "  'class_ids': array([0]),\n",
       "  'classes': array([b'0'], dtype=object)},\n",
       " {'logits': array([-1.23844433], dtype=float32),\n",
       "  'logistic': array([ 0.22470687], dtype=float32),\n",
       "  'probabilities': array([ 0.77529311,  0.2247069 ], dtype=float32),\n",
       "  'class_ids': array([0]),\n",
       "  'classes': array([b'0'], dtype=object)},\n",
       " {'logits': array([-0.1797874], dtype=float32),\n",
       "  'logistic': array([ 0.45517385], dtype=float32),\n",
       "  'probabilities': array([ 0.54482615,  0.45517379], dtype=float32),\n",
       "  'class_ids': array([0]),\n",
       "  'classes': array([b'0'], dtype=object)},\n",
       " {'logits': array([-1.65163612], dtype=float32),\n",
       "  'logistic': array([ 0.16088794], dtype=float32),\n",
       "  'probabilities': array([ 0.83911204,  0.16088794], dtype=float32),\n",
       "  'class_ids': array([0]),\n",
       "  'classes': array([b'0'], dtype=object)},\n",
       " {'logits': array([ 1.06537509], dtype=float32),\n",
       "  'logistic': array([ 0.74371642], dtype=float32),\n",
       "  'probabilities': array([ 0.25628364,  0.74371642], dtype=float32),\n",
       "  'class_ids': array([1]),\n",
       "  'classes': array([b'1'], dtype=object)},\n",
       " {'logits': array([-1.330194], dtype=float32),\n",
       "  'logistic': array([ 0.20912728], dtype=float32),\n",
       "  'probabilities': array([ 0.79087269,  0.20912728], dtype=float32),\n",
       "  'class_ids': array([0]),\n",
       "  'classes': array([b'0'], dtype=object)},\n",
       " {'logits': array([ 0.14027071], dtype=float32),\n",
       "  'logistic': array([ 0.53501028], dtype=float32),\n",
       "  'probabilities': array([ 0.46498969,  0.53501028], dtype=float32),\n",
       "  'class_ids': array([1]),\n",
       "  'classes': array([b'1'], dtype=object)},\n",
       " {'logits': array([-1.60947585], dtype=float32),\n",
       "  'logistic': array([ 0.1666614], dtype=float32),\n",
       "  'probabilities': array([ 0.83333862,  0.16666141], dtype=float32),\n",
       "  'class_ids': array([0]),\n",
       "  'classes': array([b'0'], dtype=object)},\n",
       " {'logits': array([ 0.87973762], dtype=float32),\n",
       "  'logistic': array([ 0.70676786], dtype=float32),\n",
       "  'probabilities': array([ 0.29323214,  0.70676786], dtype=float32),\n",
       "  'class_ids': array([1]),\n",
       "  'classes': array([b'1'], dtype=object)},\n",
       " {'logits': array([-0.60836577], dtype=float32),\n",
       "  'logistic': array([ 0.35243207], dtype=float32),\n",
       "  'probabilities': array([ 0.64756793,  0.3524321 ], dtype=float32),\n",
       "  'class_ids': array([0]),\n",
       "  'classes': array([b'0'], dtype=object)},\n",
       " {'logits': array([-1.14220619], dtype=float32),\n",
       "  'logistic': array([ 0.24191554], dtype=float32),\n",
       "  'probabilities': array([ 0.75808448,  0.24191552], dtype=float32),\n",
       "  'class_ids': array([0]),\n",
       "  'classes': array([b'0'], dtype=object)},\n",
       " {'logits': array([-0.45871913], dtype=float32),\n",
       "  'logistic': array([ 0.38728973], dtype=float32),\n",
       "  'probabilities': array([ 0.6127103 ,  0.38728976], dtype=float32),\n",
       "  'class_ids': array([0]),\n",
       "  'classes': array([b'0'], dtype=object)},\n",
       " {'logits': array([-0.45836568], dtype=float32),\n",
       "  'logistic': array([ 0.3873736], dtype=float32),\n",
       "  'probabilities': array([ 0.61262637,  0.3873736 ], dtype=float32),\n",
       "  'class_ids': array([0]),\n",
       "  'classes': array([b'0'], dtype=object)},\n",
       " {'logits': array([-1.32122612], dtype=float32),\n",
       "  'logistic': array([ 0.21061438], dtype=float32),\n",
       "  'probabilities': array([ 0.78938556,  0.21061435], dtype=float32),\n",
       "  'class_ids': array([0]),\n",
       "  'classes': array([b'0'], dtype=object)},\n",
       " {'logits': array([ 1.12327266], dtype=float32),\n",
       "  'logistic': array([ 0.75459528], dtype=float32),\n",
       "  'probabilities': array([ 0.24540475,  0.75459528], dtype=float32),\n",
       "  'class_ids': array([1]),\n",
       "  'classes': array([b'1'], dtype=object)},\n",
       " {'logits': array([-1.12030768], dtype=float32),\n",
       "  'logistic': array([ 0.24595422], dtype=float32),\n",
       "  'probabilities': array([ 0.75404578,  0.24595422], dtype=float32),\n",
       "  'class_ids': array([0]),\n",
       "  'classes': array([b'0'], dtype=object)},\n",
       " {'logits': array([-1.31530893], dtype=float32),\n",
       "  'logistic': array([ 0.21159984], dtype=float32),\n",
       "  'probabilities': array([ 0.78840017,  0.21159983], dtype=float32),\n",
       "  'class_ids': array([0]),\n",
       "  'classes': array([b'0'], dtype=object)},\n",
       " {'logits': array([-0.75642121], dtype=float32),\n",
       "  'logistic': array([ 0.31942376], dtype=float32),\n",
       "  'probabilities': array([ 0.68057626,  0.31942376], dtype=float32),\n",
       "  'class_ids': array([0]),\n",
       "  'classes': array([b'0'], dtype=object)},\n",
       " {'logits': array([-0.00960463], dtype=float32),\n",
       "  'logistic': array([ 0.49759886], dtype=float32),\n",
       "  'probabilities': array([ 0.50240117,  0.49759889], dtype=float32),\n",
       "  'class_ids': array([0]),\n",
       "  'classes': array([b'0'], dtype=object)},\n",
       " {'logits': array([-0.83902472], dtype=float32),\n",
       "  'logistic': array([ 0.30174023], dtype=float32),\n",
       "  'probabilities': array([ 0.69825977,  0.30174023], dtype=float32),\n",
       "  'class_ids': array([0]),\n",
       "  'classes': array([b'0'], dtype=object)},\n",
       " {'logits': array([-1.73438907], dtype=float32),\n",
       "  'logistic': array([ 0.15002704], dtype=float32),\n",
       "  'probabilities': array([ 0.84997302,  0.15002704], dtype=float32),\n",
       "  'class_ids': array([0]),\n",
       "  'classes': array([b'0'], dtype=object)},\n",
       " {'logits': array([ 1.86954546], dtype=float32),\n",
       "  'logistic': array([ 0.86640567], dtype=float32),\n",
       "  'probabilities': array([ 0.13359432,  0.86640567], dtype=float32),\n",
       "  'class_ids': array([1]),\n",
       "  'classes': array([b'1'], dtype=object)},\n",
       " {'logits': array([ 0.67615902], dtype=float32),\n",
       "  'logistic': array([ 0.6628809], dtype=float32),\n",
       "  'probabilities': array([ 0.3371191,  0.6628809], dtype=float32),\n",
       "  'class_ids': array([1]),\n",
       "  'classes': array([b'1'], dtype=object)},\n",
       " {'logits': array([ 0.20517528], dtype=float32),\n",
       "  'logistic': array([ 0.55111462], dtype=float32),\n",
       "  'probabilities': array([ 0.44888535,  0.55111462], dtype=float32),\n",
       "  'class_ids': array([1]),\n",
       "  'classes': array([b'1'], dtype=object)},\n",
       " {'logits': array([ 1.21759129], dtype=float32),\n",
       "  'logistic': array([ 0.77163935], dtype=float32),\n",
       "  'probabilities': array([ 0.22836061,  0.77163935], dtype=float32),\n",
       "  'class_ids': array([1]),\n",
       "  'classes': array([b'1'], dtype=object)},\n",
       " {'logits': array([-1.75554979], dtype=float32),\n",
       "  'logistic': array([ 0.14734857], dtype=float32),\n",
       "  'probabilities': array([ 0.85265142,  0.14734857], dtype=float32),\n",
       "  'class_ids': array([0]),\n",
       "  'classes': array([b'0'], dtype=object)},\n",
       " {'logits': array([-1.6746819], dtype=float32),\n",
       "  'logistic': array([ 0.15780096], dtype=float32),\n",
       "  'probabilities': array([ 0.84219903,  0.15780096], dtype=float32),\n",
       "  'class_ids': array([0]),\n",
       "  'classes': array([b'0'], dtype=object)},\n",
       " {'logits': array([-1.04077756], dtype=float32),\n",
       "  'logistic': array([ 0.26099998], dtype=float32),\n",
       "  'probabilities': array([ 0.73900002,  0.26100001], dtype=float32),\n",
       "  'class_ids': array([0]),\n",
       "  'classes': array([b'0'], dtype=object)},\n",
       " {'logits': array([-0.42672014], dtype=float32),\n",
       "  'logistic': array([ 0.39490983], dtype=float32),\n",
       "  'probabilities': array([ 0.6050902,  0.3949098], dtype=float32),\n",
       "  'class_ids': array([0]),\n",
       "  'classes': array([b'0'], dtype=object)},\n",
       " {'logits': array([-0.42849368], dtype=float32),\n",
       "  'logistic': array([ 0.3944861], dtype=float32),\n",
       "  'probabilities': array([ 0.60551393,  0.3944861 ], dtype=float32),\n",
       "  'class_ids': array([0]),\n",
       "  'classes': array([b'0'], dtype=object)},\n",
       " {'logits': array([ 0.27882719], dtype=float32),\n",
       "  'logistic': array([ 0.56925863], dtype=float32),\n",
       "  'probabilities': array([ 0.43074131,  0.56925863], dtype=float32),\n",
       "  'class_ids': array([1]),\n",
       "  'classes': array([b'1'], dtype=object)},\n",
       " {'logits': array([ 0.47312653], dtype=float32),\n",
       "  'logistic': array([ 0.6161235], dtype=float32),\n",
       "  'probabilities': array([ 0.3838765,  0.6161235], dtype=float32),\n",
       "  'class_ids': array([1]),\n",
       "  'classes': array([b'1'], dtype=object)},\n",
       " {'logits': array([-0.18042624], dtype=float32),\n",
       "  'logistic': array([ 0.45501542], dtype=float32),\n",
       "  'probabilities': array([ 0.54498458,  0.45501539], dtype=float32),\n",
       "  'class_ids': array([0]),\n",
       "  'classes': array([b'0'], dtype=object)},\n",
       " {'logits': array([-0.36820489], dtype=float32),\n",
       "  'logistic': array([ 0.40897489], dtype=float32),\n",
       "  'probabilities': array([ 0.59102517,  0.40897486], dtype=float32),\n",
       "  'class_ids': array([0]),\n",
       "  'classes': array([b'0'], dtype=object)},\n",
       " {'logits': array([-0.44703412], dtype=float32),\n",
       "  'logistic': array([ 0.39006615], dtype=float32),\n",
       "  'probabilities': array([ 0.60993385,  0.39006618], dtype=float32),\n",
       "  'class_ids': array([0]),\n",
       "  'classes': array([b'0'], dtype=object)},\n",
       " {'logits': array([-1.21227312], dtype=float32),\n",
       "  'logistic': array([ 0.22929908], dtype=float32),\n",
       "  'probabilities': array([ 0.77070093,  0.22929911], dtype=float32),\n",
       "  'class_ids': array([0]),\n",
       "  'classes': array([b'0'], dtype=object)},\n",
       " {'logits': array([ 0.59509313], dtype=float32),\n",
       "  'logistic': array([ 0.64453286], dtype=float32),\n",
       "  'probabilities': array([ 0.35546711,  0.64453286], dtype=float32),\n",
       "  'class_ids': array([1]),\n",
       "  'classes': array([b'1'], dtype=object)},\n",
       " {'logits': array([-1.64991558], dtype=float32),\n",
       "  'logistic': array([ 0.16112037], dtype=float32),\n",
       "  'probabilities': array([ 0.8388797 ,  0.16112037], dtype=float32),\n",
       "  'class_ids': array([0]),\n",
       "  'classes': array([b'0'], dtype=object)},\n",
       " {'logits': array([-1.04275763], dtype=float32),\n",
       "  'logistic': array([ 0.26061827], dtype=float32),\n",
       "  'probabilities': array([ 0.73938173,  0.26061827], dtype=float32),\n",
       "  'class_ids': array([0]),\n",
       "  'classes': array([b'0'], dtype=object)},\n",
       " {'logits': array([ 0.36920655], dtype=float32),\n",
       "  'logistic': array([ 0.59126723], dtype=float32),\n",
       "  'probabilities': array([ 0.40873277,  0.59126723], dtype=float32),\n",
       "  'class_ids': array([1]),\n",
       "  'classes': array([b'1'], dtype=object)},\n",
       " {'logits': array([-0.38800484], dtype=float32),\n",
       "  'logistic': array([ 0.40419769], dtype=float32),\n",
       "  'probabilities': array([ 0.59580231,  0.40419766], dtype=float32),\n",
       "  'class_ids': array([0]),\n",
       "  'classes': array([b'0'], dtype=object)},\n",
       " {'logits': array([-1.18947446], dtype=float32),\n",
       "  'logistic': array([ 0.23335294], dtype=float32),\n",
       "  'probabilities': array([ 0.7666471 ,  0.23335296], dtype=float32),\n",
       "  'class_ids': array([0]),\n",
       "  'classes': array([b'0'], dtype=object)},\n",
       " {'logits': array([-0.74726933], dtype=float32),\n",
       "  'logistic': array([ 0.32141659], dtype=float32),\n",
       "  'probabilities': array([ 0.67858338,  0.32141659], dtype=float32),\n",
       "  'class_ids': array([0]),\n",
       "  'classes': array([b'0'], dtype=object)},\n",
       " {'logits': array([-0.96725696], dtype=float32),\n",
       "  'logistic': array([ 0.27542761], dtype=float32),\n",
       "  'probabilities': array([ 0.72457242,  0.27542758], dtype=float32),\n",
       "  'class_ids': array([0]),\n",
       "  'classes': array([b'0'], dtype=object)},\n",
       " {'logits': array([-1.58686066], dtype=float32),\n",
       "  'logistic': array([ 0.16982603], dtype=float32),\n",
       "  'probabilities': array([ 0.83017397,  0.16982603], dtype=float32),\n",
       "  'class_ids': array([0]),\n",
       "  'classes': array([b'0'], dtype=object)},\n",
       " {'logits': array([-1.16557503], dtype=float32),\n",
       "  'logistic': array([ 0.23765574], dtype=float32),\n",
       "  'probabilities': array([ 0.76234424,  0.23765574], dtype=float32),\n",
       "  'class_ids': array([0]),\n",
       "  'classes': array([b'0'], dtype=object)},\n",
       " {'logits': array([ 0.41718578], dtype=float32),\n",
       "  'logistic': array([ 0.60280967], dtype=float32),\n",
       "  'probabilities': array([ 0.39719036,  0.60280967], dtype=float32),\n",
       "  'class_ids': array([1]),\n",
       "  'classes': array([b'1'], dtype=object)},\n",
       " {'logits': array([ 0.89326191], dtype=float32),\n",
       "  'logistic': array([ 0.70956284], dtype=float32),\n",
       "  'probabilities': array([ 0.29043713,  0.70956284], dtype=float32),\n",
       "  'class_ids': array([1]),\n",
       "  'classes': array([b'1'], dtype=object)},\n",
       " {'logits': array([ 0.8062073], dtype=float32),\n",
       "  'logistic': array([ 0.69130075], dtype=float32),\n",
       "  'probabilities': array([ 0.30869931,  0.69130075], dtype=float32),\n",
       "  'class_ids': array([1]),\n",
       "  'classes': array([b'1'], dtype=object)},\n",
       " {'logits': array([ 0.85845625], dtype=float32),\n",
       "  'logistic': array([ 0.70233804], dtype=float32),\n",
       "  'probabilities': array([ 0.29766199,  0.70233804], dtype=float32),\n",
       "  'class_ids': array([1]),\n",
       "  'classes': array([b'1'], dtype=object)},\n",
       " {'logits': array([ 0.05677795], dtype=float32),\n",
       "  'logistic': array([ 0.51419067], dtype=float32),\n",
       "  'probabilities': array([ 0.48580933,  0.51419067], dtype=float32),\n",
       "  'class_ids': array([1]),\n",
       "  'classes': array([b'1'], dtype=object)},\n",
       " {'logits': array([-0.62815213], dtype=float32),\n",
       "  'logistic': array([ 0.34792966], dtype=float32),\n",
       "  'probabilities': array([ 0.65207034,  0.34792963], dtype=float32),\n",
       "  'class_ids': array([0]),\n",
       "  'classes': array([b'0'], dtype=object)},\n",
       " {'logits': array([ 0.31500793], dtype=float32),\n",
       "  'logistic': array([ 0.57810718], dtype=float32),\n",
       "  'probabilities': array([ 0.42189282,  0.57810718], dtype=float32),\n",
       "  'class_ids': array([1]),\n",
       "  'classes': array([b'1'], dtype=object)},\n",
       " {'logits': array([-1.4039129], dtype=float32),\n",
       "  'logistic': array([ 0.19719592], dtype=float32),\n",
       "  'probabilities': array([ 0.80280405,  0.19719593], dtype=float32),\n",
       "  'class_ids': array([0]),\n",
       "  'classes': array([b'0'], dtype=object)},\n",
       " {'logits': array([-1.46856546], dtype=float32),\n",
       "  'logistic': array([ 0.18716076], dtype=float32),\n",
       "  'probabilities': array([ 0.81283921,  0.18716075], dtype=float32),\n",
       "  'class_ids': array([0]),\n",
       "  'classes': array([b'0'], dtype=object)},\n",
       " {'logits': array([-1.37851858], dtype=float32),\n",
       "  'logistic': array([ 0.20124702], dtype=float32),\n",
       "  'probabilities': array([ 0.79875302,  0.20124704], dtype=float32),\n",
       "  'class_ids': array([0]),\n",
       "  'classes': array([b'0'], dtype=object)},\n",
       " {'logits': array([ 0.08579397], dtype=float32),\n",
       "  'logistic': array([ 0.52143538], dtype=float32),\n",
       "  'probabilities': array([ 0.47856468,  0.52143538], dtype=float32),\n",
       "  'class_ids': array([1]),\n",
       "  'classes': array([b'1'], dtype=object)},\n",
       " {'logits': array([-2.67619276], dtype=float32),\n",
       "  'logistic': array([ 0.06439287], dtype=float32),\n",
       "  'probabilities': array([ 0.93560719,  0.06439287], dtype=float32),\n",
       "  'class_ids': array([0]),\n",
       "  'classes': array([b'0'], dtype=object)},\n",
       " {'logits': array([-0.87451094], dtype=float32),\n",
       "  'logistic': array([ 0.29431653], dtype=float32),\n",
       "  'probabilities': array([ 0.70568347,  0.29431656], dtype=float32),\n",
       "  'class_ids': array([0]),\n",
       "  'classes': array([b'0'], dtype=object)},\n",
       " {'logits': array([-1.33192062], dtype=float32),\n",
       "  'logistic': array([ 0.20884185], dtype=float32),\n",
       "  'probabilities': array([ 0.79115814,  0.20884185], dtype=float32),\n",
       "  'class_ids': array([0]),\n",
       "  'classes': array([b'0'], dtype=object)},\n",
       " {'logits': array([-0.77276325], dtype=float32),\n",
       "  'logistic': array([ 0.31588167], dtype=float32),\n",
       "  'probabilities': array([ 0.68411833,  0.31588167], dtype=float32),\n",
       "  'class_ids': array([0]),\n",
       "  'classes': array([b'0'], dtype=object)},\n",
       " {'logits': array([-1.04346228], dtype=float32),\n",
       "  'logistic': array([ 0.26048249], dtype=float32),\n",
       "  'probabilities': array([ 0.73951751,  0.26048252], dtype=float32),\n",
       "  'class_ids': array([0]),\n",
       "  'classes': array([b'0'], dtype=object)},\n",
       " {'logits': array([-0.69912529], dtype=float32),\n",
       "  'logistic': array([ 0.33200619], dtype=float32),\n",
       "  'probabilities': array([ 0.66799378,  0.33200619], dtype=float32),\n",
       "  'class_ids': array([0]),\n",
       "  'classes': array([b'0'], dtype=object)},\n",
       " {'logits': array([ 1.38479614], dtype=float32),\n",
       "  'logistic': array([ 0.79976022], dtype=float32),\n",
       "  'probabilities': array([ 0.20023982,  0.79976022], dtype=float32),\n",
       "  'class_ids': array([1]),\n",
       "  'classes': array([b'1'], dtype=object)},\n",
       " {'logits': array([-1.31688249], dtype=float32),\n",
       "  'logistic': array([ 0.21133743], dtype=float32),\n",
       "  'probabilities': array([ 0.78866261,  0.21133745], dtype=float32),\n",
       "  'class_ids': array([0]),\n",
       "  'classes': array([b'0'], dtype=object)},\n",
       " {'logits': array([-1.76077008], dtype=float32),\n",
       "  'logistic': array([ 0.14669392], dtype=float32),\n",
       "  'probabilities': array([ 0.85330606,  0.14669392], dtype=float32),\n",
       "  'class_ids': array([0]),\n",
       "  'classes': array([b'0'], dtype=object)},\n",
       " {'logits': array([ 0.60475433], dtype=float32),\n",
       "  'logistic': array([ 0.64674324], dtype=float32),\n",
       "  'probabilities': array([ 0.35325673,  0.64674324], dtype=float32),\n",
       "  'class_ids': array([1]),\n",
       "  'classes': array([b'1'], dtype=object)},\n",
       " {'logits': array([ 0.19913852], dtype=float32),\n",
       "  'logistic': array([ 0.54962075], dtype=float32),\n",
       "  'probabilities': array([ 0.45037922,  0.54962075], dtype=float32),\n",
       "  'class_ids': array([1]),\n",
       "  'classes': array([b'1'], dtype=object)},\n",
       " {'logits': array([ 1.77582121], dtype=float32),\n",
       "  'logistic': array([ 0.85518014], dtype=float32),\n",
       "  'probabilities': array([ 0.1448199 ,  0.85518014], dtype=float32),\n",
       "  'class_ids': array([1]),\n",
       "  'classes': array([b'1'], dtype=object)},\n",
       " {'logits': array([ 0.84165096], dtype=float32),\n",
       "  'logistic': array([ 0.69881284], dtype=float32),\n",
       "  'probabilities': array([ 0.30118722,  0.69881284], dtype=float32),\n",
       "  'class_ids': array([1]),\n",
       "  'classes': array([b'1'], dtype=object)},\n",
       " {'logits': array([-1.72582424], dtype=float32),\n",
       "  'logistic': array([ 0.15112248], dtype=float32),\n",
       "  'probabilities': array([ 0.84887755,  0.1511225 ], dtype=float32),\n",
       "  'class_ids': array([0]),\n",
       "  'classes': array([b'0'], dtype=object)},\n",
       " {'logits': array([ 0.70547307], dtype=float32),\n",
       "  'logistic': array([ 0.6694001], dtype=float32),\n",
       "  'probabilities': array([ 0.3305999,  0.6694001], dtype=float32),\n",
       "  'class_ids': array([1]),\n",
       "  'classes': array([b'1'], dtype=object)}]"
      ]
     },
     "execution_count": 62,
     "metadata": {},
     "output_type": "execute_result"
    }
   ],
   "source": [
    "my_pred = list(predictions)\n",
    "my_pred"
   ]
  },
  {
   "cell_type": "markdown",
   "metadata": {},
   "source": [
    "## 3- Dense Neural Network Classifier"
   ]
  },
  {
   "cell_type": "markdown",
   "metadata": {},
   "source": [
    "We create a DNN model, hidden_units means the number of neurons per layer"
   ]
  },
  {
   "cell_type": "code",
   "execution_count": 63,
   "metadata": {},
   "outputs": [
    {
     "name": "stdout",
     "output_type": "stream",
     "text": [
      "INFO:tensorflow:Using default config.\n",
      "WARNING:tensorflow:Using temporary folder as model directory: /tmp/tmpqk1j6n6m\n",
      "INFO:tensorflow:Using config: {'_model_dir': '/tmp/tmpqk1j6n6m', '_tf_random_seed': None, '_save_summary_steps': 100, '_save_checkpoints_steps': None, '_save_checkpoints_secs': 600, '_session_config': None, '_keep_checkpoint_max': 5, '_keep_checkpoint_every_n_hours': 10000, '_log_step_count_steps': 100, '_service': None, '_cluster_spec': <tensorflow.python.training.server_lib.ClusterSpec object at 0x7f6d169a4438>, '_task_type': 'worker', '_task_id': 0, '_master': '', '_is_chief': True, '_num_ps_replicas': 0, '_num_worker_replicas': 1}\n"
     ]
    }
   ],
   "source": [
    "dnn_model = tf.estimator.DNNClassifier(hidden_units=[10,10,10],feature_columns=feat_cols,n_classes=2)"
   ]
  },
  {
   "cell_type": "markdown",
   "metadata": {},
   "source": [
    "But in this case, we have to pass an embedding column or indicator column. That's because we get trouble with the categorical columns we are using\n",
    "\n",
    "We need to pass our assigned_group and the dimension of the category class, which in this case we defined as 10"
   ]
  },
  {
   "cell_type": "code",
   "execution_count": 65,
   "metadata": {},
   "outputs": [],
   "source": [
    "embedded_group_col = tf.feature_column.embedding_column(assigned_group_hashbu,dimension=10)"
   ]
  },
  {
   "cell_type": "markdown",
   "metadata": {},
   "source": [
    "Once we do that, we have to reset our feature columns. We do just as before, but now using the embedded group"
   ]
  },
  {
   "cell_type": "code",
   "execution_count": 66,
   "metadata": {},
   "outputs": [],
   "source": [
    "feat_cols = [num_preg,gluc_conc,blood_pres,tric,ins,bmi,ped,embedded_group_col,age_bucket]"
   ]
  },
  {
   "cell_type": "markdown",
   "metadata": {},
   "source": [
    "So let's try it again. Let's create first our input functions and the model again just to practice and complete the example"
   ]
  },
  {
   "cell_type": "code",
   "execution_count": 67,
   "metadata": {},
   "outputs": [],
   "source": [
    "input_func = tf.estimator.inputs.pandas_input_fn(x=X_train,y=y_train,batch_size=10,num_epochs=1000,shuffle=True)"
   ]
  },
  {
   "cell_type": "code",
   "execution_count": 68,
   "metadata": {},
   "outputs": [
    {
     "name": "stdout",
     "output_type": "stream",
     "text": [
      "INFO:tensorflow:Using default config.\n",
      "WARNING:tensorflow:Using temporary folder as model directory: /tmp/tmprx__3ppa\n",
      "INFO:tensorflow:Using config: {'_model_dir': '/tmp/tmprx__3ppa', '_tf_random_seed': None, '_save_summary_steps': 100, '_save_checkpoints_steps': None, '_save_checkpoints_secs': 600, '_session_config': None, '_keep_checkpoint_max': 5, '_keep_checkpoint_every_n_hours': 10000, '_log_step_count_steps': 100, '_service': None, '_cluster_spec': <tensorflow.python.training.server_lib.ClusterSpec object at 0x7f6d169a4b38>, '_task_type': 'worker', '_task_id': 0, '_master': '', '_is_chief': True, '_num_ps_replicas': 0, '_num_worker_replicas': 1}\n"
     ]
    }
   ],
   "source": [
    "dnn_model = tf.estimator.DNNClassifier(hidden_units=[10,10,10],feature_columns=feat_cols,n_classes=2)"
   ]
  },
  {
   "cell_type": "markdown",
   "metadata": {},
   "source": [
    "Let's train it now!"
   ]
  },
  {
   "cell_type": "code",
   "execution_count": 69,
   "metadata": {},
   "outputs": [
    {
     "name": "stdout",
     "output_type": "stream",
     "text": [
      "INFO:tensorflow:Create CheckpointSaverHook.\n",
      "INFO:tensorflow:Saving checkpoints for 1 into /tmp/tmprx__3ppa/model.ckpt.\n",
      "INFO:tensorflow:loss = 6.87463, step = 1\n",
      "INFO:tensorflow:global_step/sec: 343.12\n",
      "INFO:tensorflow:loss = 3.79888, step = 101 (0.290 sec)\n",
      "INFO:tensorflow:global_step/sec: 445.593\n",
      "INFO:tensorflow:loss = 3.54434, step = 201 (0.223 sec)\n",
      "INFO:tensorflow:global_step/sec: 428.912\n",
      "INFO:tensorflow:loss = 4.13723, step = 301 (0.235 sec)\n",
      "INFO:tensorflow:global_step/sec: 472.988\n",
      "INFO:tensorflow:loss = 6.02896, step = 401 (0.215 sec)\n",
      "INFO:tensorflow:global_step/sec: 392.278\n",
      "INFO:tensorflow:loss = 5.15259, step = 501 (0.252 sec)\n",
      "INFO:tensorflow:global_step/sec: 469.725\n",
      "INFO:tensorflow:loss = 4.01985, step = 601 (0.209 sec)\n",
      "INFO:tensorflow:global_step/sec: 468.781\n",
      "INFO:tensorflow:loss = 4.24376, step = 701 (0.215 sec)\n",
      "INFO:tensorflow:global_step/sec: 468.235\n",
      "INFO:tensorflow:loss = 7.3001, step = 801 (0.213 sec)\n",
      "INFO:tensorflow:global_step/sec: 538.109\n",
      "INFO:tensorflow:loss = 3.34707, step = 901 (0.189 sec)\n",
      "INFO:tensorflow:Saving checkpoints for 1000 into /tmp/tmprx__3ppa/model.ckpt.\n",
      "INFO:tensorflow:Loss for final step: 7.07519.\n"
     ]
    },
    {
     "data": {
      "text/plain": [
       "<tensorflow.python.estimator.canned.dnn.DNNClassifier at 0x7f6d169a4908>"
      ]
     },
     "execution_count": 69,
     "metadata": {},
     "output_type": "execute_result"
    }
   ],
   "source": [
    "dnn_model.train(input_fn=input_func,steps=1000)"
   ]
  },
  {
   "cell_type": "markdown",
   "metadata": {},
   "source": [
    "Let's evaluate it!"
   ]
  },
  {
   "cell_type": "code",
   "execution_count": 71,
   "metadata": {},
   "outputs": [],
   "source": [
    "eval_input_func = tf.estimator.inputs.pandas_input_fn(x=X_test,y=y_test,batch_size=10,num_epochs=1,shuffle=False)"
   ]
  },
  {
   "cell_type": "code",
   "execution_count": 72,
   "metadata": {},
   "outputs": [
    {
     "name": "stdout",
     "output_type": "stream",
     "text": [
      "INFO:tensorflow:Starting evaluation at 2018-07-04-20:21:15\n",
      "INFO:tensorflow:Restoring parameters from /tmp/tmprx__3ppa/model.ckpt-1000\n",
      "INFO:tensorflow:Finished evaluation at 2018-07-04-20:21:15\n",
      "INFO:tensorflow:Saving dict for global step 1000: accuracy = 0.757576, accuracy_baseline = 0.649351, auc = 0.82963, auc_precision_recall = 0.69006, average_loss = 0.482896, global_step = 1000, label/mean = 0.350649, loss = 4.64787, prediction/mean = 0.339566\n"
     ]
    },
    {
     "data": {
      "text/plain": [
       "{'accuracy': 0.75757575,\n",
       " 'accuracy_baseline': 0.64935064,\n",
       " 'auc': 0.8296296,\n",
       " 'auc_precision_recall': 0.69005978,\n",
       " 'average_loss': 0.48289588,\n",
       " 'label/mean': 0.35064936,\n",
       " 'loss': 4.6478729,\n",
       " 'prediction/mean': 0.33956623,\n",
       " 'global_step': 1000}"
      ]
     },
     "execution_count": 72,
     "metadata": {},
     "output_type": "execute_result"
    }
   ],
   "source": [
    "dnn_model.evaluate(input_fn=eval_input_func)"
   ]
  },
  {
   "cell_type": "markdown",
   "metadata": {},
   "source": [
    "As we can see it's performing a little better than the last time\n",
    "\n",
    "If we try to increase the number of neurons, we maybe could increase the accuracy. But there's always a limit for the data, and maybe we can't improve it much more.\n",
    "\n",
    "In that case, we would probably need more data"
   ]
  },
  {
   "cell_type": "code",
   "execution_count": null,
   "metadata": {},
   "outputs": [],
   "source": []
  }
 ],
 "metadata": {
  "kernelspec": {
   "display_name": "Python 3",
   "language": "python",
   "name": "python3"
  },
  "language_info": {
   "codemirror_mode": {
    "name": "ipython",
    "version": 3
   },
   "file_extension": ".py",
   "mimetype": "text/x-python",
   "name": "python",
   "nbconvert_exporter": "python",
   "pygments_lexer": "ipython3",
   "version": "3.6.5"
  }
 },
 "nbformat": 4,
 "nbformat_minor": 2
}
